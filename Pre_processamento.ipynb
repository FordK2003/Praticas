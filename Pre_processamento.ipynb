{
 "cells": [
  {
   "cell_type": "code",
   "id": "initial_id",
   "metadata": {
    "collapsed": true,
    "ExecuteTime": {
     "end_time": "2024-08-28T18:33:25.655316Z",
     "start_time": "2024-08-28T18:33:25.639270Z"
    }
   },
   "source": [
    "import pandas as pd\n",
    "import numpy as np\n",
    "import matplotlib.pyplot as plt\n",
    "import seaborn as sns"
   ],
   "outputs": [],
   "execution_count": 20
  },
  {
   "metadata": {
    "ExecuteTime": {
     "end_time": "2024-08-28T18:33:26.923638Z",
     "start_time": "2024-08-28T18:33:26.882487Z"
    }
   },
   "cell_type": "code",
   "source": "total = pd.read_csv('dados/AgrupamentoDesagregado-20240822093718-Limpo.csv')",
   "id": "699ed5372564b4f4",
   "outputs": [],
   "execution_count": 21
  },
  {
   "metadata": {
    "ExecuteTime": {
     "end_time": "2024-08-28T18:33:26.956548Z",
     "start_time": "2024-08-28T18:33:26.944566Z"
    }
   },
   "cell_type": "code",
   "source": "pobreza = pd.read_csv('dados/indices_pobreza_consolidado.csv')",
   "id": "df106c770c9ed1da",
   "outputs": [],
   "execution_count": 22
  },
  {
   "metadata": {
    "ExecuteTime": {
     "end_time": "2024-08-28T18:33:27.094109Z",
     "start_time": "2024-08-28T18:33:27.078460Z"
    }
   },
   "cell_type": "code",
   "source": "total.columns",
   "id": "6b804c5e56c87700",
   "outputs": [
    {
     "data": {
      "text/plain": [
       "Index(['Código do Município', 'Município', 'Estado', 'Região',\n",
       "       'Ano de Referência', 'Código do Prestador', 'Prestador',\n",
       "       'Sigla do Prestador', 'Abrangência', 'Tipo de serviço',\n",
       "       'Natureza jurídica',\n",
       "       'População total do município do ano de referência:',\n",
       "       'População total atendida com esgotamento sanitário'],\n",
       "      dtype='object')"
      ]
     },
     "execution_count": 23,
     "metadata": {},
     "output_type": "execute_result"
    }
   ],
   "execution_count": 23
  },
  {
   "metadata": {
    "ExecuteTime": {
     "end_time": "2024-08-28T18:33:27.238597Z",
     "start_time": "2024-08-28T18:33:27.208409Z"
    }
   },
   "cell_type": "code",
   "source": "total.info()",
   "id": "ff29f8a415663655",
   "outputs": [
    {
     "name": "stdout",
     "output_type": "stream",
     "text": [
      "<class 'pandas.core.frame.DataFrame'>\n",
      "RangeIndex: 2362 entries, 0 to 2361\n",
      "Data columns (total 13 columns):\n",
      " #   Column                                              Non-Null Count  Dtype \n",
      "---  ------                                              --------------  ----- \n",
      " 0   Código do Município                                 2362 non-null   int64 \n",
      " 1   Município                                           2362 non-null   object\n",
      " 2   Estado                                              2362 non-null   object\n",
      " 3   Região                                              2362 non-null   object\n",
      " 4   Ano de Referência                                   2362 non-null   int64 \n",
      " 5   Código do Prestador                                 2362 non-null   int64 \n",
      " 6   Prestador                                           2362 non-null   object\n",
      " 7   Sigla do Prestador                                  2362 non-null   object\n",
      " 8   Abrangência                                         2362 non-null   object\n",
      " 9   Tipo de serviço                                     2362 non-null   object\n",
      " 10  Natureza jurídica                                   2362 non-null   object\n",
      " 11  População total do município do ano de referência:  2362 non-null   object\n",
      " 12  População total atendida com esgotamento sanitário  2361 non-null   object\n",
      "dtypes: int64(3), object(10)\n",
      "memory usage: 240.0+ KB\n"
     ]
    }
   ],
   "execution_count": 24
  },
  {
   "metadata": {},
   "cell_type": "markdown",
   "source": [
    "# Prestadores e separação de dados\n",
    "Cada municipio tem pelo menos um prestador de serviço de saneamento, em alguns e necessario somar os dados de todos os prestadores para obter os dados do municipio."
   ],
   "id": "85330b23347c684e"
  },
  {
   "metadata": {
    "ExecuteTime": {
     "end_time": "2024-08-28T18:33:27.318165Z",
     "start_time": "2024-08-28T18:33:27.270263Z"
    }
   },
   "cell_type": "code",
   "source": "total[total['Município']=='Rio de Janeiro']",
   "id": "74881e6747e9fe67",
   "outputs": [
    {
     "data": {
      "text/plain": [
       "      Código do Município       Município Estado   Região  Ano de Referência  \\\n",
       "1301               330455  Rio de Janeiro     RJ  Sudeste               2022   \n",
       "1303               330455  Rio de Janeiro     RJ  Sudeste               2022   \n",
       "1309               330455  Rio de Janeiro     RJ  Sudeste               2022   \n",
       "1313               330455  Rio de Janeiro     RJ  Sudeste               2022   \n",
       "\n",
       "      Código do Prestador                              Prestador  \\\n",
       "1301             33045500  Companhia Estadual de Águas e Esgotos   \n",
       "1303             33045512                ÁGUAS DO RIO 1 SPE S.A.   \n",
       "1309             33045513                ÁGUAS DO RIO 4 SPE S.A.   \n",
       "1313             33045514               Iguá Rio de Janeiro S.A.   \n",
       "\n",
       "     Sigla do Prestador     Abrangência Tipo de serviço  \\\n",
       "1301              CEDAE        Regional   Água e Esgoto   \n",
       "1303               RIO1  Microrregional   Água e Esgoto   \n",
       "1309               RIO4  Microrregional   Água e Esgoto   \n",
       "1313             IGUARJ  Microrregional   Água e Esgoto   \n",
       "\n",
       "                                      Natureza jurídica  \\\n",
       "1301  Sociedade de economia mista com administração ...   \n",
       "1303                                    Empresa privada   \n",
       "1309                                    Empresa privada   \n",
       "1313                                    Empresa privada   \n",
       "\n",
       "     População total do município do ano de referência:  \\\n",
       "1301                                       6.211.223,00   \n",
       "1303                                       6.211.223,00   \n",
       "1309                                       6.211.223,00   \n",
       "1313                                       6.211.223,00   \n",
       "\n",
       "     População total atendida com esgotamento sanitário  \n",
       "1301                                                  0  \n",
       "1303                                            844.604  \n",
       "1309                                          2.922.773  \n",
       "1313                                            683.254  "
      ],
      "text/html": [
       "<div>\n",
       "<style scoped>\n",
       "    .dataframe tbody tr th:only-of-type {\n",
       "        vertical-align: middle;\n",
       "    }\n",
       "\n",
       "    .dataframe tbody tr th {\n",
       "        vertical-align: top;\n",
       "    }\n",
       "\n",
       "    .dataframe thead th {\n",
       "        text-align: right;\n",
       "    }\n",
       "</style>\n",
       "<table border=\"1\" class=\"dataframe\">\n",
       "  <thead>\n",
       "    <tr style=\"text-align: right;\">\n",
       "      <th></th>\n",
       "      <th>Código do Município</th>\n",
       "      <th>Município</th>\n",
       "      <th>Estado</th>\n",
       "      <th>Região</th>\n",
       "      <th>Ano de Referência</th>\n",
       "      <th>Código do Prestador</th>\n",
       "      <th>Prestador</th>\n",
       "      <th>Sigla do Prestador</th>\n",
       "      <th>Abrangência</th>\n",
       "      <th>Tipo de serviço</th>\n",
       "      <th>Natureza jurídica</th>\n",
       "      <th>População total do município do ano de referência:</th>\n",
       "      <th>População total atendida com esgotamento sanitário</th>\n",
       "    </tr>\n",
       "  </thead>\n",
       "  <tbody>\n",
       "    <tr>\n",
       "      <th>1301</th>\n",
       "      <td>330455</td>\n",
       "      <td>Rio de Janeiro</td>\n",
       "      <td>RJ</td>\n",
       "      <td>Sudeste</td>\n",
       "      <td>2022</td>\n",
       "      <td>33045500</td>\n",
       "      <td>Companhia Estadual de Águas e Esgotos</td>\n",
       "      <td>CEDAE</td>\n",
       "      <td>Regional</td>\n",
       "      <td>Água e Esgoto</td>\n",
       "      <td>Sociedade de economia mista com administração ...</td>\n",
       "      <td>6.211.223,00</td>\n",
       "      <td>0</td>\n",
       "    </tr>\n",
       "    <tr>\n",
       "      <th>1303</th>\n",
       "      <td>330455</td>\n",
       "      <td>Rio de Janeiro</td>\n",
       "      <td>RJ</td>\n",
       "      <td>Sudeste</td>\n",
       "      <td>2022</td>\n",
       "      <td>33045512</td>\n",
       "      <td>ÁGUAS DO RIO 1 SPE S.A.</td>\n",
       "      <td>RIO1</td>\n",
       "      <td>Microrregional</td>\n",
       "      <td>Água e Esgoto</td>\n",
       "      <td>Empresa privada</td>\n",
       "      <td>6.211.223,00</td>\n",
       "      <td>844.604</td>\n",
       "    </tr>\n",
       "    <tr>\n",
       "      <th>1309</th>\n",
       "      <td>330455</td>\n",
       "      <td>Rio de Janeiro</td>\n",
       "      <td>RJ</td>\n",
       "      <td>Sudeste</td>\n",
       "      <td>2022</td>\n",
       "      <td>33045513</td>\n",
       "      <td>ÁGUAS DO RIO 4 SPE S.A.</td>\n",
       "      <td>RIO4</td>\n",
       "      <td>Microrregional</td>\n",
       "      <td>Água e Esgoto</td>\n",
       "      <td>Empresa privada</td>\n",
       "      <td>6.211.223,00</td>\n",
       "      <td>2.922.773</td>\n",
       "    </tr>\n",
       "    <tr>\n",
       "      <th>1313</th>\n",
       "      <td>330455</td>\n",
       "      <td>Rio de Janeiro</td>\n",
       "      <td>RJ</td>\n",
       "      <td>Sudeste</td>\n",
       "      <td>2022</td>\n",
       "      <td>33045514</td>\n",
       "      <td>Iguá Rio de Janeiro S.A.</td>\n",
       "      <td>IGUARJ</td>\n",
       "      <td>Microrregional</td>\n",
       "      <td>Água e Esgoto</td>\n",
       "      <td>Empresa privada</td>\n",
       "      <td>6.211.223,00</td>\n",
       "      <td>683.254</td>\n",
       "    </tr>\n",
       "  </tbody>\n",
       "</table>\n",
       "</div>"
      ]
     },
     "execution_count": 25,
     "metadata": {},
     "output_type": "execute_result"
    }
   ],
   "execution_count": 25
  },
  {
   "metadata": {
    "ExecuteTime": {
     "end_time": "2024-08-28T18:33:27.487896Z",
     "start_time": "2024-08-28T18:33:27.455832Z"
    }
   },
   "cell_type": "code",
   "source": "total.head()",
   "id": "79c2293bc7d71fa7",
   "outputs": [
    {
     "data": {
      "text/plain": [
       "   Código do Município      Município Estado        Região  Ano de Referência  \\\n",
       "0               530010       Brasília     DF  Centro-Oeste               2022   \n",
       "1               520010      Abadiânia     GO  Centro-Oeste               2022   \n",
       "2               520390  Buriti Alegre     GO  Centro-Oeste               2022   \n",
       "3               520450   Caldas Novas     GO  Centro-Oeste               2022   \n",
       "4               520510        Catalão     GO  Centro-Oeste               2022   \n",
       "\n",
       "   Código do Prestador                                          Prestador  \\\n",
       "0             53001000  Companhia de Saneamento Ambiental do Distrito ...   \n",
       "1             52001011                  Serviço Autônomo de Água e Esgoto   \n",
       "2             52039011                 BURITI ALEGRE AMBIENTAL S.P.E -S/A   \n",
       "3             52045011            Departamento Municipal de Água e Esgoto   \n",
       "4             52051011        Superintendência Municipal de Água e Esgoto   \n",
       "\n",
       "  Sigla do Prestador Abrangência Tipo de serviço  \\\n",
       "0              CAESB    Regional   Água e Esgoto   \n",
       "1               SAAE       Local   Água e Esgoto   \n",
       "2                BAA       Local   Água e Esgoto   \n",
       "3              DEMAE       Local   Água e Esgoto   \n",
       "4                SAE       Local   Água e Esgoto   \n",
       "\n",
       "                                   Natureza jurídica  \\\n",
       "0  Sociedade de economia mista com administração ...   \n",
       "1                                          Autarquia   \n",
       "2                                    Empresa privada   \n",
       "3                                          Autarquia   \n",
       "4                                          Autarquia   \n",
       "\n",
       "  População total do município do ano de referência:  \\\n",
       "0                                       2.817.381,00   \n",
       "1                                          17.232,00   \n",
       "2                                          10.495,00   \n",
       "3                                          98.622,00   \n",
       "4                                         114.427,00   \n",
       "\n",
       "  População total atendida com esgotamento sanitário  \n",
       "0                                          2.600.435  \n",
       "1                                             14.115  \n",
       "2                                              1.492  \n",
       "3                                             54.168  \n",
       "4                                             72.439  "
      ],
      "text/html": [
       "<div>\n",
       "<style scoped>\n",
       "    .dataframe tbody tr th:only-of-type {\n",
       "        vertical-align: middle;\n",
       "    }\n",
       "\n",
       "    .dataframe tbody tr th {\n",
       "        vertical-align: top;\n",
       "    }\n",
       "\n",
       "    .dataframe thead th {\n",
       "        text-align: right;\n",
       "    }\n",
       "</style>\n",
       "<table border=\"1\" class=\"dataframe\">\n",
       "  <thead>\n",
       "    <tr style=\"text-align: right;\">\n",
       "      <th></th>\n",
       "      <th>Código do Município</th>\n",
       "      <th>Município</th>\n",
       "      <th>Estado</th>\n",
       "      <th>Região</th>\n",
       "      <th>Ano de Referência</th>\n",
       "      <th>Código do Prestador</th>\n",
       "      <th>Prestador</th>\n",
       "      <th>Sigla do Prestador</th>\n",
       "      <th>Abrangência</th>\n",
       "      <th>Tipo de serviço</th>\n",
       "      <th>Natureza jurídica</th>\n",
       "      <th>População total do município do ano de referência:</th>\n",
       "      <th>População total atendida com esgotamento sanitário</th>\n",
       "    </tr>\n",
       "  </thead>\n",
       "  <tbody>\n",
       "    <tr>\n",
       "      <th>0</th>\n",
       "      <td>530010</td>\n",
       "      <td>Brasília</td>\n",
       "      <td>DF</td>\n",
       "      <td>Centro-Oeste</td>\n",
       "      <td>2022</td>\n",
       "      <td>53001000</td>\n",
       "      <td>Companhia de Saneamento Ambiental do Distrito ...</td>\n",
       "      <td>CAESB</td>\n",
       "      <td>Regional</td>\n",
       "      <td>Água e Esgoto</td>\n",
       "      <td>Sociedade de economia mista com administração ...</td>\n",
       "      <td>2.817.381,00</td>\n",
       "      <td>2.600.435</td>\n",
       "    </tr>\n",
       "    <tr>\n",
       "      <th>1</th>\n",
       "      <td>520010</td>\n",
       "      <td>Abadiânia</td>\n",
       "      <td>GO</td>\n",
       "      <td>Centro-Oeste</td>\n",
       "      <td>2022</td>\n",
       "      <td>52001011</td>\n",
       "      <td>Serviço Autônomo de Água e Esgoto</td>\n",
       "      <td>SAAE</td>\n",
       "      <td>Local</td>\n",
       "      <td>Água e Esgoto</td>\n",
       "      <td>Autarquia</td>\n",
       "      <td>17.232,00</td>\n",
       "      <td>14.115</td>\n",
       "    </tr>\n",
       "    <tr>\n",
       "      <th>2</th>\n",
       "      <td>520390</td>\n",
       "      <td>Buriti Alegre</td>\n",
       "      <td>GO</td>\n",
       "      <td>Centro-Oeste</td>\n",
       "      <td>2022</td>\n",
       "      <td>52039011</td>\n",
       "      <td>BURITI ALEGRE AMBIENTAL S.P.E -S/A</td>\n",
       "      <td>BAA</td>\n",
       "      <td>Local</td>\n",
       "      <td>Água e Esgoto</td>\n",
       "      <td>Empresa privada</td>\n",
       "      <td>10.495,00</td>\n",
       "      <td>1.492</td>\n",
       "    </tr>\n",
       "    <tr>\n",
       "      <th>3</th>\n",
       "      <td>520450</td>\n",
       "      <td>Caldas Novas</td>\n",
       "      <td>GO</td>\n",
       "      <td>Centro-Oeste</td>\n",
       "      <td>2022</td>\n",
       "      <td>52045011</td>\n",
       "      <td>Departamento Municipal de Água e Esgoto</td>\n",
       "      <td>DEMAE</td>\n",
       "      <td>Local</td>\n",
       "      <td>Água e Esgoto</td>\n",
       "      <td>Autarquia</td>\n",
       "      <td>98.622,00</td>\n",
       "      <td>54.168</td>\n",
       "    </tr>\n",
       "    <tr>\n",
       "      <th>4</th>\n",
       "      <td>520510</td>\n",
       "      <td>Catalão</td>\n",
       "      <td>GO</td>\n",
       "      <td>Centro-Oeste</td>\n",
       "      <td>2022</td>\n",
       "      <td>52051011</td>\n",
       "      <td>Superintendência Municipal de Água e Esgoto</td>\n",
       "      <td>SAE</td>\n",
       "      <td>Local</td>\n",
       "      <td>Água e Esgoto</td>\n",
       "      <td>Autarquia</td>\n",
       "      <td>114.427,00</td>\n",
       "      <td>72.439</td>\n",
       "    </tr>\n",
       "  </tbody>\n",
       "</table>\n",
       "</div>"
      ]
     },
     "execution_count": 26,
     "metadata": {},
     "output_type": "execute_result"
    }
   ],
   "execution_count": 26
  },
  {
   "metadata": {
    "ExecuteTime": {
     "end_time": "2024-08-28T18:33:27.637237Z",
     "start_time": "2024-08-28T18:33:27.605350Z"
    }
   },
   "cell_type": "code",
   "source": [
    "print(total['População total do município do ano de referência:'].isnull().sum())\n",
    "(total['População total do município do ano de referência:'] == '0,00').sum()"
   ],
   "id": "9c14e303d8e158e3",
   "outputs": [
    {
     "name": "stdout",
     "output_type": "stream",
     "text": [
      "0\n"
     ]
    },
    {
     "data": {
      "text/plain": [
       "0"
      ]
     },
     "execution_count": 27,
     "metadata": {},
     "output_type": "execute_result"
    }
   ],
   "execution_count": 27
  },
  {
   "metadata": {
    "ExecuteTime": {
     "end_time": "2024-08-28T18:33:27.811451Z",
     "start_time": "2024-08-28T18:33:27.780681Z"
    }
   },
   "cell_type": "code",
   "source": [
    "total['População total do município do ano de referência:'] = total['População total do município do ano de referência:'].str.replace(' ', '')\n",
    "total['População total do município do ano de referência:'] = total['População total do município do ano de referência:'].str.replace('.', '')\n",
    "total['População total do município do ano de referência:'] = total['População total do município do ano de referência:'].str.replace(',00', '')\n",
    "total['População total do município do ano de referência:'] =  total['População total do município do ano de referência:'].astype(int)"
   ],
   "id": "e4609a802df8a00c",
   "outputs": [],
   "execution_count": 28
  },
  {
   "metadata": {
    "ExecuteTime": {
     "end_time": "2024-08-28T18:33:28.288473Z",
     "start_time": "2024-08-28T18:33:28.261395Z"
    }
   },
   "cell_type": "code",
   "source": [
    "total['População total atendida com esgotamento sanitário'] = total['População total atendida com esgotamento sanitário'].str.replace(' ', '')\n",
    "total['População total atendida com esgotamento sanitário'] = total['População total atendida com esgotamento sanitário'].str.replace('.', '')\n",
    "total['População total atendida com esgotamento sanitário'] = total['População total atendida com esgotamento sanitário'].str.replace(',00', '')\n"
   ],
   "id": "b2a44911d3ce86e1",
   "outputs": [],
   "execution_count": 29
  },
  {
   "metadata": {
    "ExecuteTime": {
     "end_time": "2024-08-28T18:33:28.556717Z",
     "start_time": "2024-08-28T18:33:28.526921Z"
    }
   },
   "cell_type": "code",
   "source": [
    "total['População total atendida com esgotamento sanitário'] = total['População total atendida com esgotamento sanitário'].fillna(0)\n",
    "total['População total atendida com esgotamento sanitário'] = total['População total atendida com esgotamento sanitário'].astype(int)"
   ],
   "id": "4c51c8b26bd97fe6",
   "outputs": [],
   "execution_count": 30
  },
  {
   "metadata": {
    "ExecuteTime": {
     "end_time": "2024-08-28T18:33:28.816318Z",
     "start_time": "2024-08-28T18:33:28.787873Z"
    }
   },
   "cell_type": "code",
   "source": "total.isnull().sum()",
   "id": "9608c81698955b",
   "outputs": [
    {
     "data": {
      "text/plain": [
       "Código do Município                                   0\n",
       "Município                                             0\n",
       "Estado                                                0\n",
       "Região                                                0\n",
       "Ano de Referência                                     0\n",
       "Código do Prestador                                   0\n",
       "Prestador                                             0\n",
       "Sigla do Prestador                                    0\n",
       "Abrangência                                           0\n",
       "Tipo de serviço                                       0\n",
       "Natureza jurídica                                     0\n",
       "População total do município do ano de referência:    0\n",
       "População total atendida com esgotamento sanitário    0\n",
       "dtype: int64"
      ]
     },
     "execution_count": 31,
     "metadata": {},
     "output_type": "execute_result"
    }
   ],
   "execution_count": 31
  },
  {
   "metadata": {
    "ExecuteTime": {
     "end_time": "2024-08-28T18:33:29.070625Z",
     "start_time": "2024-08-28T18:33:29.040561Z"
    }
   },
   "cell_type": "code",
   "source": "total.info()",
   "id": "f49daf3e90043ada",
   "outputs": [
    {
     "name": "stdout",
     "output_type": "stream",
     "text": [
      "<class 'pandas.core.frame.DataFrame'>\n",
      "RangeIndex: 2362 entries, 0 to 2361\n",
      "Data columns (total 13 columns):\n",
      " #   Column                                              Non-Null Count  Dtype \n",
      "---  ------                                              --------------  ----- \n",
      " 0   Código do Município                                 2362 non-null   int64 \n",
      " 1   Município                                           2362 non-null   object\n",
      " 2   Estado                                              2362 non-null   object\n",
      " 3   Região                                              2362 non-null   object\n",
      " 4   Ano de Referência                                   2362 non-null   int64 \n",
      " 5   Código do Prestador                                 2362 non-null   int64 \n",
      " 6   Prestador                                           2362 non-null   object\n",
      " 7   Sigla do Prestador                                  2362 non-null   object\n",
      " 8   Abrangência                                         2362 non-null   object\n",
      " 9   Tipo de serviço                                     2362 non-null   object\n",
      " 10  Natureza jurídica                                   2362 non-null   object\n",
      " 11  População total do município do ano de referência:  2362 non-null   int32 \n",
      " 12  População total atendida com esgotamento sanitário  2362 non-null   int32 \n",
      "dtypes: int32(2), int64(3), object(8)\n",
      "memory usage: 221.6+ KB\n"
     ]
    }
   ],
   "execution_count": 32
  },
  {
   "metadata": {},
   "cell_type": "markdown",
   "source": "# Dados de 2022 ",
   "id": "e9fbb5b4db9bd4b"
  },
  {
   "metadata": {
    "ExecuteTime": {
     "end_time": "2024-08-28T18:33:29.186268Z",
     "start_time": "2024-08-28T18:33:29.154078Z"
    }
   },
   "cell_type": "code",
   "source": "total_2022 = total[total['Ano de Referência'] == 2022]",
   "id": "f18f4d5edbd09be8",
   "outputs": [],
   "execution_count": 33
  },
  {
   "metadata": {
    "ExecuteTime": {
     "end_time": "2024-08-28T18:33:29.311809Z",
     "start_time": "2024-08-28T18:33:29.296454Z"
    }
   },
   "cell_type": "code",
   "source": "total_2022 = total_2022.drop(columns=['Ano de Referência'])",
   "id": "b10a96a37e305727",
   "outputs": [],
   "execution_count": 34
  },
  {
   "metadata": {
    "ExecuteTime": {
     "end_time": "2024-08-28T18:33:29.490047Z",
     "start_time": "2024-08-28T18:33:29.474093Z"
    }
   },
   "cell_type": "code",
   "source": "total_2022['Porcentagem Abastecida por prestador'] = total_2022['População total atendida com esgotamento sanitário']/ total_2022['População total do município do ano de referência:'] ",
   "id": "99cd757432846fb5",
   "outputs": [],
   "execution_count": 35
  },
  {
   "metadata": {
    "ExecuteTime": {
     "end_time": "2024-08-28T18:33:29.696023Z",
     "start_time": "2024-08-28T18:33:29.667223Z"
    }
   },
   "cell_type": "code",
   "source": "total_2022['Porcentagem Abastecida por prestador']",
   "id": "dceb4f65587bf13b",
   "outputs": [
    {
     "data": {
      "text/plain": [
       "0       0.922997\n",
       "1       0.819116\n",
       "2       0.142163\n",
       "3       0.549249\n",
       "4       0.633059\n",
       "          ...   \n",
       "2357    0.015902\n",
       "2358    0.431210\n",
       "2359    0.048210\n",
       "2360    0.154883\n",
       "2361    0.004219\n",
       "Name: Porcentagem Abastecida por prestador, Length: 2362, dtype: float64"
      ]
     },
     "execution_count": 36,
     "metadata": {},
     "output_type": "execute_result"
    }
   ],
   "execution_count": 36
  },
  {
   "metadata": {
    "ExecuteTime": {
     "end_time": "2024-08-28T18:33:29.806175Z",
     "start_time": "2024-08-28T18:33:29.759077Z"
    }
   },
   "cell_type": "code",
   "source": "total_2022",
   "id": "3a9a226a35a40d5f",
   "outputs": [
    {
     "data": {
      "text/plain": [
       "      Código do Município      Município Estado        Região  \\\n",
       "0                  530010       Brasília     DF  Centro-Oeste   \n",
       "1                  520010      Abadiânia     GO  Centro-Oeste   \n",
       "2                  520390  Buriti Alegre     GO  Centro-Oeste   \n",
       "3                  520450   Caldas Novas     GO  Centro-Oeste   \n",
       "4                  520510        Catalão     GO  Centro-Oeste   \n",
       "...                   ...            ...    ...           ...   \n",
       "2357               421830    Três Barras     SC           Sul   \n",
       "2358               421870        Tubarão     SC           Sul   \n",
       "2359               421875      Tunápolis     SC           Sul   \n",
       "2360               421900      Urussanga     SC           Sul   \n",
       "2361               421930        Videira     SC           Sul   \n",
       "\n",
       "      Código do Prestador                                          Prestador  \\\n",
       "0                53001000  Companhia de Saneamento Ambiental do Distrito ...   \n",
       "1                52001011                  Serviço Autônomo de Água e Esgoto   \n",
       "2                52039011                 BURITI ALEGRE AMBIENTAL S.P.E -S/A   \n",
       "3                52045011            Departamento Municipal de Água e Esgoto   \n",
       "4                52051011        Superintendência Municipal de Água e Esgoto   \n",
       "...                   ...                                                ...   \n",
       "2357             42183011  Serviço Autônomo Municipal de Água e Saneament...   \n",
       "2358             42187012                            Tubarão Saneamento S.A.   \n",
       "2359             42187511                  Prefeitura Municipal de Tunápolis   \n",
       "2360             42190011        Serviço Autônomo Municipal de Água e Esgoto   \n",
       "2361             42193012  SERVIÇO AUTÔNOMO DE ÁGUA E ESGOTO DO MUNICÍPIO...   \n",
       "\n",
       "     Sigla do Prestador Abrangência Tipo de serviço  \\\n",
       "0                 CAESB    Regional   Água e Esgoto   \n",
       "1                  SAAE       Local   Água e Esgoto   \n",
       "2                   BAA       Local   Água e Esgoto   \n",
       "3                 DEMAE       Local   Água e Esgoto   \n",
       "4                   SAE       Local   Água e Esgoto   \n",
       "...                 ...         ...             ...   \n",
       "2357             SAMASA       Local   Água e Esgoto   \n",
       "2358              TBSSA       Local   Água e Esgoto   \n",
       "2359                PMT       Local   Água e Esgoto   \n",
       "2360              SAMAE       Local   Água e Esgoto   \n",
       "2361              VISAN       Local   Água e Esgoto   \n",
       "\n",
       "                                      Natureza jurídica  \\\n",
       "0     Sociedade de economia mista com administração ...   \n",
       "1                                             Autarquia   \n",
       "2                                       Empresa privada   \n",
       "3                                             Autarquia   \n",
       "4                                             Autarquia   \n",
       "...                                                 ...   \n",
       "2357                                          Autarquia   \n",
       "2358                                    Empresa privada   \n",
       "2359                       Administração pública direta   \n",
       "2360                                          Autarquia   \n",
       "2361                                          Autarquia   \n",
       "\n",
       "      População total do município do ano de referência:  \\\n",
       "0                                               2817381    \n",
       "1                                                 17232    \n",
       "2                                                 10495    \n",
       "3                                                 98622    \n",
       "4                                                114427    \n",
       "...                                                 ...    \n",
       "2357                                              19746    \n",
       "2358                                             110088    \n",
       "2359                                               4916    \n",
       "2360                                              20919    \n",
       "2361                                              55466    \n",
       "\n",
       "      População total atendida com esgotamento sanitário  \\\n",
       "0                                               2600435    \n",
       "1                                                 14115    \n",
       "2                                                  1492    \n",
       "3                                                 54168    \n",
       "4                                                 72439    \n",
       "...                                                 ...    \n",
       "2357                                                314    \n",
       "2358                                              47471    \n",
       "2359                                                237    \n",
       "2360                                               3240    \n",
       "2361                                                234    \n",
       "\n",
       "      Porcentagem Abastecida por prestador  \n",
       "0                                 0.922997  \n",
       "1                                 0.819116  \n",
       "2                                 0.142163  \n",
       "3                                 0.549249  \n",
       "4                                 0.633059  \n",
       "...                                    ...  \n",
       "2357                              0.015902  \n",
       "2358                              0.431210  \n",
       "2359                              0.048210  \n",
       "2360                              0.154883  \n",
       "2361                              0.004219  \n",
       "\n",
       "[2362 rows x 13 columns]"
      ],
      "text/html": [
       "<div>\n",
       "<style scoped>\n",
       "    .dataframe tbody tr th:only-of-type {\n",
       "        vertical-align: middle;\n",
       "    }\n",
       "\n",
       "    .dataframe tbody tr th {\n",
       "        vertical-align: top;\n",
       "    }\n",
       "\n",
       "    .dataframe thead th {\n",
       "        text-align: right;\n",
       "    }\n",
       "</style>\n",
       "<table border=\"1\" class=\"dataframe\">\n",
       "  <thead>\n",
       "    <tr style=\"text-align: right;\">\n",
       "      <th></th>\n",
       "      <th>Código do Município</th>\n",
       "      <th>Município</th>\n",
       "      <th>Estado</th>\n",
       "      <th>Região</th>\n",
       "      <th>Código do Prestador</th>\n",
       "      <th>Prestador</th>\n",
       "      <th>Sigla do Prestador</th>\n",
       "      <th>Abrangência</th>\n",
       "      <th>Tipo de serviço</th>\n",
       "      <th>Natureza jurídica</th>\n",
       "      <th>População total do município do ano de referência:</th>\n",
       "      <th>População total atendida com esgotamento sanitário</th>\n",
       "      <th>Porcentagem Abastecida por prestador</th>\n",
       "    </tr>\n",
       "  </thead>\n",
       "  <tbody>\n",
       "    <tr>\n",
       "      <th>0</th>\n",
       "      <td>530010</td>\n",
       "      <td>Brasília</td>\n",
       "      <td>DF</td>\n",
       "      <td>Centro-Oeste</td>\n",
       "      <td>53001000</td>\n",
       "      <td>Companhia de Saneamento Ambiental do Distrito ...</td>\n",
       "      <td>CAESB</td>\n",
       "      <td>Regional</td>\n",
       "      <td>Água e Esgoto</td>\n",
       "      <td>Sociedade de economia mista com administração ...</td>\n",
       "      <td>2817381</td>\n",
       "      <td>2600435</td>\n",
       "      <td>0.922997</td>\n",
       "    </tr>\n",
       "    <tr>\n",
       "      <th>1</th>\n",
       "      <td>520010</td>\n",
       "      <td>Abadiânia</td>\n",
       "      <td>GO</td>\n",
       "      <td>Centro-Oeste</td>\n",
       "      <td>52001011</td>\n",
       "      <td>Serviço Autônomo de Água e Esgoto</td>\n",
       "      <td>SAAE</td>\n",
       "      <td>Local</td>\n",
       "      <td>Água e Esgoto</td>\n",
       "      <td>Autarquia</td>\n",
       "      <td>17232</td>\n",
       "      <td>14115</td>\n",
       "      <td>0.819116</td>\n",
       "    </tr>\n",
       "    <tr>\n",
       "      <th>2</th>\n",
       "      <td>520390</td>\n",
       "      <td>Buriti Alegre</td>\n",
       "      <td>GO</td>\n",
       "      <td>Centro-Oeste</td>\n",
       "      <td>52039011</td>\n",
       "      <td>BURITI ALEGRE AMBIENTAL S.P.E -S/A</td>\n",
       "      <td>BAA</td>\n",
       "      <td>Local</td>\n",
       "      <td>Água e Esgoto</td>\n",
       "      <td>Empresa privada</td>\n",
       "      <td>10495</td>\n",
       "      <td>1492</td>\n",
       "      <td>0.142163</td>\n",
       "    </tr>\n",
       "    <tr>\n",
       "      <th>3</th>\n",
       "      <td>520450</td>\n",
       "      <td>Caldas Novas</td>\n",
       "      <td>GO</td>\n",
       "      <td>Centro-Oeste</td>\n",
       "      <td>52045011</td>\n",
       "      <td>Departamento Municipal de Água e Esgoto</td>\n",
       "      <td>DEMAE</td>\n",
       "      <td>Local</td>\n",
       "      <td>Água e Esgoto</td>\n",
       "      <td>Autarquia</td>\n",
       "      <td>98622</td>\n",
       "      <td>54168</td>\n",
       "      <td>0.549249</td>\n",
       "    </tr>\n",
       "    <tr>\n",
       "      <th>4</th>\n",
       "      <td>520510</td>\n",
       "      <td>Catalão</td>\n",
       "      <td>GO</td>\n",
       "      <td>Centro-Oeste</td>\n",
       "      <td>52051011</td>\n",
       "      <td>Superintendência Municipal de Água e Esgoto</td>\n",
       "      <td>SAE</td>\n",
       "      <td>Local</td>\n",
       "      <td>Água e Esgoto</td>\n",
       "      <td>Autarquia</td>\n",
       "      <td>114427</td>\n",
       "      <td>72439</td>\n",
       "      <td>0.633059</td>\n",
       "    </tr>\n",
       "    <tr>\n",
       "      <th>...</th>\n",
       "      <td>...</td>\n",
       "      <td>...</td>\n",
       "      <td>...</td>\n",
       "      <td>...</td>\n",
       "      <td>...</td>\n",
       "      <td>...</td>\n",
       "      <td>...</td>\n",
       "      <td>...</td>\n",
       "      <td>...</td>\n",
       "      <td>...</td>\n",
       "      <td>...</td>\n",
       "      <td>...</td>\n",
       "      <td>...</td>\n",
       "    </tr>\n",
       "    <tr>\n",
       "      <th>2357</th>\n",
       "      <td>421830</td>\n",
       "      <td>Três Barras</td>\n",
       "      <td>SC</td>\n",
       "      <td>Sul</td>\n",
       "      <td>42183011</td>\n",
       "      <td>Serviço Autônomo Municipal de Água e Saneament...</td>\n",
       "      <td>SAMASA</td>\n",
       "      <td>Local</td>\n",
       "      <td>Água e Esgoto</td>\n",
       "      <td>Autarquia</td>\n",
       "      <td>19746</td>\n",
       "      <td>314</td>\n",
       "      <td>0.015902</td>\n",
       "    </tr>\n",
       "    <tr>\n",
       "      <th>2358</th>\n",
       "      <td>421870</td>\n",
       "      <td>Tubarão</td>\n",
       "      <td>SC</td>\n",
       "      <td>Sul</td>\n",
       "      <td>42187012</td>\n",
       "      <td>Tubarão Saneamento S.A.</td>\n",
       "      <td>TBSSA</td>\n",
       "      <td>Local</td>\n",
       "      <td>Água e Esgoto</td>\n",
       "      <td>Empresa privada</td>\n",
       "      <td>110088</td>\n",
       "      <td>47471</td>\n",
       "      <td>0.431210</td>\n",
       "    </tr>\n",
       "    <tr>\n",
       "      <th>2359</th>\n",
       "      <td>421875</td>\n",
       "      <td>Tunápolis</td>\n",
       "      <td>SC</td>\n",
       "      <td>Sul</td>\n",
       "      <td>42187511</td>\n",
       "      <td>Prefeitura Municipal de Tunápolis</td>\n",
       "      <td>PMT</td>\n",
       "      <td>Local</td>\n",
       "      <td>Água e Esgoto</td>\n",
       "      <td>Administração pública direta</td>\n",
       "      <td>4916</td>\n",
       "      <td>237</td>\n",
       "      <td>0.048210</td>\n",
       "    </tr>\n",
       "    <tr>\n",
       "      <th>2360</th>\n",
       "      <td>421900</td>\n",
       "      <td>Urussanga</td>\n",
       "      <td>SC</td>\n",
       "      <td>Sul</td>\n",
       "      <td>42190011</td>\n",
       "      <td>Serviço Autônomo Municipal de Água e Esgoto</td>\n",
       "      <td>SAMAE</td>\n",
       "      <td>Local</td>\n",
       "      <td>Água e Esgoto</td>\n",
       "      <td>Autarquia</td>\n",
       "      <td>20919</td>\n",
       "      <td>3240</td>\n",
       "      <td>0.154883</td>\n",
       "    </tr>\n",
       "    <tr>\n",
       "      <th>2361</th>\n",
       "      <td>421930</td>\n",
       "      <td>Videira</td>\n",
       "      <td>SC</td>\n",
       "      <td>Sul</td>\n",
       "      <td>42193012</td>\n",
       "      <td>SERVIÇO AUTÔNOMO DE ÁGUA E ESGOTO DO MUNICÍPIO...</td>\n",
       "      <td>VISAN</td>\n",
       "      <td>Local</td>\n",
       "      <td>Água e Esgoto</td>\n",
       "      <td>Autarquia</td>\n",
       "      <td>55466</td>\n",
       "      <td>234</td>\n",
       "      <td>0.004219</td>\n",
       "    </tr>\n",
       "  </tbody>\n",
       "</table>\n",
       "<p>2362 rows × 13 columns</p>\n",
       "</div>"
      ]
     },
     "execution_count": 37,
     "metadata": {},
     "output_type": "execute_result"
    }
   ],
   "execution_count": 37
  },
  {
   "metadata": {},
   "cell_type": "markdown",
   "source": "### Plotando os graficos no mapa do Brasil",
   "id": "64afbc5eba35d8d3"
  },
  {
   "metadata": {
    "ExecuteTime": {
     "end_time": "2024-08-28T18:39:40.602667Z",
     "start_time": "2024-08-28T18:39:40.484359Z"
    }
   },
   "cell_type": "code",
   "source": [
    "import geopandas as gpd\n",
    "from shapely.geometry import Point\n",
    "from geopy.geocoders import Nominatim\n",
    "geolocator = Nominatim(user_agent=\"geoapiExercises\")"
   ],
   "id": "46ae4bf5dbc960d7",
   "outputs": [],
   "execution_count": 47
  },
  {
   "metadata": {
    "ExecuteTime": {
     "end_time": "2024-08-28T18:39:41.768025Z",
     "start_time": "2024-08-28T18:39:41.754161Z"
    }
   },
   "cell_type": "code",
   "source": [
    "def geocode(city):\n",
    "    try:\n",
    "        location = geolocator.geocode(city+ ', Brazil')\n",
    "        return location.latitude, location.longitude\n",
    "    except:\n",
    "        return None,None\n",
    "    "
   ],
   "id": "262cdb0fad9eaea8",
   "outputs": [],
   "execution_count": 48
  },
  {
   "metadata": {
    "ExecuteTime": {
     "end_time": "2024-08-28T19:13:16.693130Z",
     "start_time": "2024-08-28T18:39:42.424947Z"
    }
   },
   "cell_type": "code",
   "source": "total_2022['latitude'], total_2022['longitude'] = zip(*total_2022['Município'].apply(geocode))",
   "id": "7a88de8df3c80579",
   "outputs": [],
   "execution_count": 49
  },
  {
   "metadata": {
    "ExecuteTime": {
     "end_time": "2024-08-29T14:11:04.020617Z",
     "start_time": "2024-08-29T14:11:01.912553Z"
    }
   },
   "cell_type": "code",
   "source": "total_2022.dropna(subset=['latitude', 'longitude'], inplace=True)",
   "id": "ccd6691a089d89de",
   "outputs": [],
   "execution_count": 52
  },
  {
   "metadata": {
    "jupyter": {
     "is_executing": true
    },
    "ExecuteTime": {
     "start_time": "2024-08-29T14:28:31.860157Z"
    }
   },
   "cell_type": "code",
   "source": [
    "import geopandas as gpd\n",
    "from geopy.geocoders import Nominatim\n",
    "import matplotlib.pyplot as plt\n",
    "\n",
    "# Load the dataset\n",
    "brazil_map = gpd.read_file('dados/110m_cultural/ne_110m_admin_0_countries.shp')\n",
    "brazil_map = brazil_map[brazil_map['NAME'] == 'Brazil']\n",
    "\n",
    "# Geocoding function\n",
    "geolocator = Nominatim(user_agent=\"geoapiExercises\")\n",
    "def geocode(city):\n",
    "    try:\n",
    "        location = geolocator.geocode(city + ', Brazil')\n",
    "        return location.latitude, location.longitude\n",
    "    except:\n",
    "        return None, None\n",
    "\n",
    "# Assuming total_2022 DataFrame is already defined\n",
    "total_2022['latitude'], total_2022['longitude'] = zip(*total_2022['Município'].apply(geocode))\n",
    "total_2022.dropna(subset=['latitude', 'longitude'], inplace=True)\n",
    "\n",
    "# Create GeoDataFrame\n",
    "gdf = gpd.GeoDataFrame(total_2022, geometry=gpd.points_from_xy(total_2022['longitude'], total_2022['latitude']))\n",
    "\n",
    "# Plotting\n",
    "fig, ax = plt.subplots(figsize=(10, 10))\n",
    "brazil_map.plot(ax=ax, color='lightgrey')\n",
    "gdf.plot(ax=ax, column='Porcentagem Abastecida por prestador', cmap='coolwarm', markersize=100, legend=True)\n",
    "\n",
    "for x, y, label in zip(gdf.geometry.x, gdf.geometry.y, gdf['Município']):\n",
    "    ax.text(x, y, label, fontsize=12, ha='right')\n",
    "\n",
    "plt.title('Cities in Brazil Colored by Value')\n",
    "plt.show()"
   ],
   "id": "f972a8c49347af8e",
   "outputs": [],
   "execution_count": null
  },
  {
   "metadata": {},
   "cell_type": "markdown",
   "source": "## Dados da pobreza",
   "id": "1e285bb508b54168"
  },
  {
   "metadata": {
    "ExecuteTime": {
     "end_time": "2024-08-28T18:33:30.072789Z",
     "start_time": "2024-08-28T18:33:30.028757Z"
    }
   },
   "cell_type": "code",
   "source": "pobreza.head()",
   "id": "c7f88846875b9517",
   "outputs": [
    {
     "data": {
      "text/plain": [
       "  referencia  periodo   pobreza  extrema_pobreza     total  \\\n",
       "0    08/2012   201208  19370363         44381455  63751818   \n",
       "1    09/2012   201209  19371279         44554715  63925994   \n",
       "2    10/2012   201210  19376665         44652093  64028758   \n",
       "3    11/2012   201211  19381040         44723215  64104255   \n",
       "4    12/2012   201212  19392882         44684759  64077641   \n",
       "\n",
       "   populacao_estimada  porcentagem_pobreza  porcentagem_extrema_pobreza  \\\n",
       "0           193976530                  0.1                         0.23   \n",
       "1           193976530                  0.1                         0.23   \n",
       "2           193976530                  0.1                         0.23   \n",
       "3           193976530                  0.1                         0.23   \n",
       "4           193976530                  0.1                         0.23   \n",
       "\n",
       "   porcentagem_vulnerabilidade  familias_pobreza  ...  \\\n",
       "0                         0.33           5265743  ...   \n",
       "1                         0.33           5278170  ...   \n",
       "2                         0.33           5288902  ...   \n",
       "3                         0.33           5298295  ...   \n",
       "4                         0.33           5311337  ...   \n",
       "\n",
       "   familias_vulnerabilidade  indigenas_pobreza  indigenas_extrema_pobreza  \\\n",
       "0                  18162964              14144                      86593   \n",
       "1                  18284925              14157                      87216   \n",
       "2                  18365268              14171                      87397   \n",
       "3                  18429654              14182                      87697   \n",
       "4                  18472436              14209                      87820   \n",
       "\n",
       "   indigenas_vulnerabilidade  quilombolas_pobreza  \\\n",
       "0                     100737                 7927   \n",
       "1                     101373                 8022   \n",
       "2                     101568                 8081   \n",
       "3                     101879                 8198   \n",
       "4                     102029                 8314   \n",
       "\n",
       "   quilombolas_extrema_pobreza  quilombolas_vulnerabilidade  ciganos_pobreza  \\\n",
       "0                        57407                        65334              119   \n",
       "1                        58018                        66040              123   \n",
       "2                        58468                        66549              131   \n",
       "3                        59193                        67391              142   \n",
       "4                        60250                        68564              143   \n",
       "\n",
       "   ciganos_extrema_pobreza  ciganos_vulnerabilidade  \n",
       "0                      757                      876  \n",
       "1                      825                      948  \n",
       "2                      888                     1019  \n",
       "3                      925                     1067  \n",
       "4                      978                     1121  \n",
       "\n",
       "[5 rows x 21 columns]"
      ],
      "text/html": [
       "<div>\n",
       "<style scoped>\n",
       "    .dataframe tbody tr th:only-of-type {\n",
       "        vertical-align: middle;\n",
       "    }\n",
       "\n",
       "    .dataframe tbody tr th {\n",
       "        vertical-align: top;\n",
       "    }\n",
       "\n",
       "    .dataframe thead th {\n",
       "        text-align: right;\n",
       "    }\n",
       "</style>\n",
       "<table border=\"1\" class=\"dataframe\">\n",
       "  <thead>\n",
       "    <tr style=\"text-align: right;\">\n",
       "      <th></th>\n",
       "      <th>referencia</th>\n",
       "      <th>periodo</th>\n",
       "      <th>pobreza</th>\n",
       "      <th>extrema_pobreza</th>\n",
       "      <th>total</th>\n",
       "      <th>populacao_estimada</th>\n",
       "      <th>porcentagem_pobreza</th>\n",
       "      <th>porcentagem_extrema_pobreza</th>\n",
       "      <th>porcentagem_vulnerabilidade</th>\n",
       "      <th>familias_pobreza</th>\n",
       "      <th>...</th>\n",
       "      <th>familias_vulnerabilidade</th>\n",
       "      <th>indigenas_pobreza</th>\n",
       "      <th>indigenas_extrema_pobreza</th>\n",
       "      <th>indigenas_vulnerabilidade</th>\n",
       "      <th>quilombolas_pobreza</th>\n",
       "      <th>quilombolas_extrema_pobreza</th>\n",
       "      <th>quilombolas_vulnerabilidade</th>\n",
       "      <th>ciganos_pobreza</th>\n",
       "      <th>ciganos_extrema_pobreza</th>\n",
       "      <th>ciganos_vulnerabilidade</th>\n",
       "    </tr>\n",
       "  </thead>\n",
       "  <tbody>\n",
       "    <tr>\n",
       "      <th>0</th>\n",
       "      <td>08/2012</td>\n",
       "      <td>201208</td>\n",
       "      <td>19370363</td>\n",
       "      <td>44381455</td>\n",
       "      <td>63751818</td>\n",
       "      <td>193976530</td>\n",
       "      <td>0.1</td>\n",
       "      <td>0.23</td>\n",
       "      <td>0.33</td>\n",
       "      <td>5265743</td>\n",
       "      <td>...</td>\n",
       "      <td>18162964</td>\n",
       "      <td>14144</td>\n",
       "      <td>86593</td>\n",
       "      <td>100737</td>\n",
       "      <td>7927</td>\n",
       "      <td>57407</td>\n",
       "      <td>65334</td>\n",
       "      <td>119</td>\n",
       "      <td>757</td>\n",
       "      <td>876</td>\n",
       "    </tr>\n",
       "    <tr>\n",
       "      <th>1</th>\n",
       "      <td>09/2012</td>\n",
       "      <td>201209</td>\n",
       "      <td>19371279</td>\n",
       "      <td>44554715</td>\n",
       "      <td>63925994</td>\n",
       "      <td>193976530</td>\n",
       "      <td>0.1</td>\n",
       "      <td>0.23</td>\n",
       "      <td>0.33</td>\n",
       "      <td>5278170</td>\n",
       "      <td>...</td>\n",
       "      <td>18284925</td>\n",
       "      <td>14157</td>\n",
       "      <td>87216</td>\n",
       "      <td>101373</td>\n",
       "      <td>8022</td>\n",
       "      <td>58018</td>\n",
       "      <td>66040</td>\n",
       "      <td>123</td>\n",
       "      <td>825</td>\n",
       "      <td>948</td>\n",
       "    </tr>\n",
       "    <tr>\n",
       "      <th>2</th>\n",
       "      <td>10/2012</td>\n",
       "      <td>201210</td>\n",
       "      <td>19376665</td>\n",
       "      <td>44652093</td>\n",
       "      <td>64028758</td>\n",
       "      <td>193976530</td>\n",
       "      <td>0.1</td>\n",
       "      <td>0.23</td>\n",
       "      <td>0.33</td>\n",
       "      <td>5288902</td>\n",
       "      <td>...</td>\n",
       "      <td>18365268</td>\n",
       "      <td>14171</td>\n",
       "      <td>87397</td>\n",
       "      <td>101568</td>\n",
       "      <td>8081</td>\n",
       "      <td>58468</td>\n",
       "      <td>66549</td>\n",
       "      <td>131</td>\n",
       "      <td>888</td>\n",
       "      <td>1019</td>\n",
       "    </tr>\n",
       "    <tr>\n",
       "      <th>3</th>\n",
       "      <td>11/2012</td>\n",
       "      <td>201211</td>\n",
       "      <td>19381040</td>\n",
       "      <td>44723215</td>\n",
       "      <td>64104255</td>\n",
       "      <td>193976530</td>\n",
       "      <td>0.1</td>\n",
       "      <td>0.23</td>\n",
       "      <td>0.33</td>\n",
       "      <td>5298295</td>\n",
       "      <td>...</td>\n",
       "      <td>18429654</td>\n",
       "      <td>14182</td>\n",
       "      <td>87697</td>\n",
       "      <td>101879</td>\n",
       "      <td>8198</td>\n",
       "      <td>59193</td>\n",
       "      <td>67391</td>\n",
       "      <td>142</td>\n",
       "      <td>925</td>\n",
       "      <td>1067</td>\n",
       "    </tr>\n",
       "    <tr>\n",
       "      <th>4</th>\n",
       "      <td>12/2012</td>\n",
       "      <td>201212</td>\n",
       "      <td>19392882</td>\n",
       "      <td>44684759</td>\n",
       "      <td>64077641</td>\n",
       "      <td>193976530</td>\n",
       "      <td>0.1</td>\n",
       "      <td>0.23</td>\n",
       "      <td>0.33</td>\n",
       "      <td>5311337</td>\n",
       "      <td>...</td>\n",
       "      <td>18472436</td>\n",
       "      <td>14209</td>\n",
       "      <td>87820</td>\n",
       "      <td>102029</td>\n",
       "      <td>8314</td>\n",
       "      <td>60250</td>\n",
       "      <td>68564</td>\n",
       "      <td>143</td>\n",
       "      <td>978</td>\n",
       "      <td>1121</td>\n",
       "    </tr>\n",
       "  </tbody>\n",
       "</table>\n",
       "<p>5 rows × 21 columns</p>\n",
       "</div>"
      ]
     },
     "execution_count": 39,
     "metadata": {},
     "output_type": "execute_result"
    }
   ],
   "execution_count": 39
  },
  {
   "metadata": {
    "ExecuteTime": {
     "end_time": "2024-08-28T18:33:30.192585Z",
     "start_time": "2024-08-28T18:33:30.161512Z"
    }
   },
   "cell_type": "code",
   "source": "pobreza['referencia']= pd.to_datetime(pobreza['referencia'],format = '%m/%Y')",
   "id": "2c7237afb72fc69d",
   "outputs": [],
   "execution_count": 40
  },
  {
   "metadata": {
    "ExecuteTime": {
     "end_time": "2024-08-28T18:33:30.604499Z",
     "start_time": "2024-08-28T18:33:30.561389Z"
    }
   },
   "cell_type": "code",
   "source": "pobreza['referencia']",
   "id": "5c58621874b5b57b",
   "outputs": [
    {
     "data": {
      "text/plain": [
       "0     2012-08-01\n",
       "1     2012-09-01\n",
       "2     2012-10-01\n",
       "3     2012-11-01\n",
       "4     2012-12-01\n",
       "         ...    \n",
       "117   2022-05-01\n",
       "118   2022-06-01\n",
       "119   2022-07-01\n",
       "120   2022-08-01\n",
       "121   2022-09-01\n",
       "Name: referencia, Length: 122, dtype: datetime64[ns]"
      ]
     },
     "execution_count": 41,
     "metadata": {},
     "output_type": "execute_result"
    }
   ],
   "execution_count": 41
  },
  {
   "metadata": {
    "ExecuteTime": {
     "end_time": "2024-08-28T18:33:30.700674Z",
     "start_time": "2024-08-28T18:33:30.686616Z"
    }
   },
   "cell_type": "code",
   "source": "",
   "id": "f3f6ef62defcdb2a",
   "outputs": [],
   "execution_count": 41
  }
 ],
 "metadata": {
  "kernelspec": {
   "display_name": "Python 3",
   "language": "python",
   "name": "python3"
  },
  "language_info": {
   "codemirror_mode": {
    "name": "ipython",
    "version": 2
   },
   "file_extension": ".py",
   "mimetype": "text/x-python",
   "name": "python",
   "nbconvert_exporter": "python",
   "pygments_lexer": "ipython2",
   "version": "2.7.6"
  }
 },
 "nbformat": 4,
 "nbformat_minor": 5
}
