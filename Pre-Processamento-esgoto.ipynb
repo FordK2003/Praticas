{
 "cells": [
  {
   "cell_type": "code",
   "id": "initial_id",
   "metadata": {
    "collapsed": true,
    "ExecuteTime": {
     "end_time": "2024-08-31T18:14:26.287148Z",
     "start_time": "2024-08-31T18:14:26.275916Z"
    }
   },
   "source": [
    "import pandas as pd\n",
    "import numpy as np\n",
    "import matplotlib.pyplot as plt\n",
    "import seaborn as sns"
   ],
   "outputs": [],
   "execution_count": 1
  },
  {
   "metadata": {
    "ExecuteTime": {
     "end_time": "2024-08-31T18:14:32.196585Z",
     "start_time": "2024-08-31T18:14:32.093028Z"
    }
   },
   "cell_type": "code",
   "source": "total = pd.read_csv('dados/AgrupamentoDesagregado-20240822093718-Limpo.csv')",
   "id": "699ed5372564b4f4",
   "outputs": [],
   "execution_count": 2
  },
  {
   "metadata": {
    "ExecuteTime": {
     "end_time": "2024-08-31T18:14:33.582861Z",
     "start_time": "2024-08-31T18:14:33.544291Z"
    }
   },
   "cell_type": "code",
   "source": "pobreza = pd.read_csv('dados/indices_pobreza_consolidado.csv')",
   "id": "df106c770c9ed1da",
   "outputs": [],
   "execution_count": 3
  },
  {
   "metadata": {
    "ExecuteTime": {
     "end_time": "2024-08-31T18:14:35.143597Z",
     "start_time": "2024-08-31T18:14:35.120142Z"
    }
   },
   "cell_type": "code",
   "source": "total.columns",
   "id": "6b804c5e56c87700",
   "outputs": [
    {
     "data": {
      "text/plain": [
       "Index(['Código do Município', 'Município', 'Estado', 'Região',\n",
       "       'Ano de Referência', 'Código do Prestador', 'Prestador',\n",
       "       'Sigla do Prestador', 'Abrangência', 'Tipo de serviço',\n",
       "       'Natureza jurídica',\n",
       "       'População total do município do ano de referência:',\n",
       "       'População total atendida com esgotamento sanitário'],\n",
       "      dtype='object')"
      ]
     },
     "execution_count": 4,
     "metadata": {},
     "output_type": "execute_result"
    }
   ],
   "execution_count": 4
  },
  {
   "metadata": {
    "ExecuteTime": {
     "end_time": "2024-08-31T18:14:38.315345Z",
     "start_time": "2024-08-31T18:14:38.277673Z"
    }
   },
   "cell_type": "code",
   "source": "total.info()",
   "id": "ff29f8a415663655",
   "outputs": [
    {
     "name": "stdout",
     "output_type": "stream",
     "text": [
      "<class 'pandas.core.frame.DataFrame'>\n",
      "RangeIndex: 2362 entries, 0 to 2361\n",
      "Data columns (total 13 columns):\n",
      " #   Column                                              Non-Null Count  Dtype \n",
      "---  ------                                              --------------  ----- \n",
      " 0   Código do Município                                 2362 non-null   int64 \n",
      " 1   Município                                           2362 non-null   object\n",
      " 2   Estado                                              2362 non-null   object\n",
      " 3   Região                                              2362 non-null   object\n",
      " 4   Ano de Referência                                   2362 non-null   int64 \n",
      " 5   Código do Prestador                                 2362 non-null   int64 \n",
      " 6   Prestador                                           2362 non-null   object\n",
      " 7   Sigla do Prestador                                  2362 non-null   object\n",
      " 8   Abrangência                                         2362 non-null   object\n",
      " 9   Tipo de serviço                                     2362 non-null   object\n",
      " 10  Natureza jurídica                                   2362 non-null   object\n",
      " 11  População total do município do ano de referência:  2362 non-null   object\n",
      " 12  População total atendida com esgotamento sanitário  2361 non-null   object\n",
      "dtypes: int64(3), object(10)\n",
      "memory usage: 240.0+ KB\n"
     ]
    }
   ],
   "execution_count": 5
  },
  {
   "metadata": {},
   "cell_type": "markdown",
   "source": [
    "# Prestadores e separação de dados\n",
    "Cada municipio tem pelo menos um prestador de serviço de saneamento, em alguns e necessario somar os dados de todos os prestadores para obter os dados do municipio."
   ],
   "id": "85330b23347c684e"
  },
  {
   "metadata": {
    "ExecuteTime": {
     "end_time": "2024-08-31T18:17:24.939374Z",
     "start_time": "2024-08-31T18:17:24.872034Z"
    }
   },
   "cell_type": "code",
   "source": "total[total['Município']=='Rio de Janeiro']",
   "id": "74881e6747e9fe67",
   "outputs": [
    {
     "data": {
      "text/plain": [
       "      Código do Município       Município Estado   Região  Ano de Referência  \\\n",
       "1301               330455  Rio de Janeiro     RJ  Sudeste               2022   \n",
       "1303               330455  Rio de Janeiro     RJ  Sudeste               2022   \n",
       "1309               330455  Rio de Janeiro     RJ  Sudeste               2022   \n",
       "1313               330455  Rio de Janeiro     RJ  Sudeste               2022   \n",
       "\n",
       "      Código do Prestador                              Prestador  \\\n",
       "1301             33045500  Companhia Estadual de Águas e Esgotos   \n",
       "1303             33045512                ÁGUAS DO RIO 1 SPE S.A.   \n",
       "1309             33045513                ÁGUAS DO RIO 4 SPE S.A.   \n",
       "1313             33045514               Iguá Rio de Janeiro S.A.   \n",
       "\n",
       "     Sigla do Prestador     Abrangência Tipo de serviço  \\\n",
       "1301              CEDAE        Regional   Água e Esgoto   \n",
       "1303               RIO1  Microrregional   Água e Esgoto   \n",
       "1309               RIO4  Microrregional   Água e Esgoto   \n",
       "1313             IGUARJ  Microrregional   Água e Esgoto   \n",
       "\n",
       "                                      Natureza jurídica  \\\n",
       "1301  Sociedade de economia mista com administração ...   \n",
       "1303                                    Empresa privada   \n",
       "1309                                    Empresa privada   \n",
       "1313                                    Empresa privada   \n",
       "\n",
       "      População total do município do ano de referência:  \\\n",
       "1301                                            6211223    \n",
       "1303                                            6211223    \n",
       "1309                                            6211223    \n",
       "1313                                            6211223    \n",
       "\n",
       "      População total atendida com esgotamento sanitário  \n",
       "1301                                                  0   \n",
       "1303                                             844604   \n",
       "1309                                            2922773   \n",
       "1313                                             683254   "
      ],
      "text/html": [
       "<div>\n",
       "<style scoped>\n",
       "    .dataframe tbody tr th:only-of-type {\n",
       "        vertical-align: middle;\n",
       "    }\n",
       "\n",
       "    .dataframe tbody tr th {\n",
       "        vertical-align: top;\n",
       "    }\n",
       "\n",
       "    .dataframe thead th {\n",
       "        text-align: right;\n",
       "    }\n",
       "</style>\n",
       "<table border=\"1\" class=\"dataframe\">\n",
       "  <thead>\n",
       "    <tr style=\"text-align: right;\">\n",
       "      <th></th>\n",
       "      <th>Código do Município</th>\n",
       "      <th>Município</th>\n",
       "      <th>Estado</th>\n",
       "      <th>Região</th>\n",
       "      <th>Ano de Referência</th>\n",
       "      <th>Código do Prestador</th>\n",
       "      <th>Prestador</th>\n",
       "      <th>Sigla do Prestador</th>\n",
       "      <th>Abrangência</th>\n",
       "      <th>Tipo de serviço</th>\n",
       "      <th>Natureza jurídica</th>\n",
       "      <th>População total do município do ano de referência:</th>\n",
       "      <th>População total atendida com esgotamento sanitário</th>\n",
       "    </tr>\n",
       "  </thead>\n",
       "  <tbody>\n",
       "    <tr>\n",
       "      <th>1301</th>\n",
       "      <td>330455</td>\n",
       "      <td>Rio de Janeiro</td>\n",
       "      <td>RJ</td>\n",
       "      <td>Sudeste</td>\n",
       "      <td>2022</td>\n",
       "      <td>33045500</td>\n",
       "      <td>Companhia Estadual de Águas e Esgotos</td>\n",
       "      <td>CEDAE</td>\n",
       "      <td>Regional</td>\n",
       "      <td>Água e Esgoto</td>\n",
       "      <td>Sociedade de economia mista com administração ...</td>\n",
       "      <td>6211223</td>\n",
       "      <td>0</td>\n",
       "    </tr>\n",
       "    <tr>\n",
       "      <th>1303</th>\n",
       "      <td>330455</td>\n",
       "      <td>Rio de Janeiro</td>\n",
       "      <td>RJ</td>\n",
       "      <td>Sudeste</td>\n",
       "      <td>2022</td>\n",
       "      <td>33045512</td>\n",
       "      <td>ÁGUAS DO RIO 1 SPE S.A.</td>\n",
       "      <td>RIO1</td>\n",
       "      <td>Microrregional</td>\n",
       "      <td>Água e Esgoto</td>\n",
       "      <td>Empresa privada</td>\n",
       "      <td>6211223</td>\n",
       "      <td>844604</td>\n",
       "    </tr>\n",
       "    <tr>\n",
       "      <th>1309</th>\n",
       "      <td>330455</td>\n",
       "      <td>Rio de Janeiro</td>\n",
       "      <td>RJ</td>\n",
       "      <td>Sudeste</td>\n",
       "      <td>2022</td>\n",
       "      <td>33045513</td>\n",
       "      <td>ÁGUAS DO RIO 4 SPE S.A.</td>\n",
       "      <td>RIO4</td>\n",
       "      <td>Microrregional</td>\n",
       "      <td>Água e Esgoto</td>\n",
       "      <td>Empresa privada</td>\n",
       "      <td>6211223</td>\n",
       "      <td>2922773</td>\n",
       "    </tr>\n",
       "    <tr>\n",
       "      <th>1313</th>\n",
       "      <td>330455</td>\n",
       "      <td>Rio de Janeiro</td>\n",
       "      <td>RJ</td>\n",
       "      <td>Sudeste</td>\n",
       "      <td>2022</td>\n",
       "      <td>33045514</td>\n",
       "      <td>Iguá Rio de Janeiro S.A.</td>\n",
       "      <td>IGUARJ</td>\n",
       "      <td>Microrregional</td>\n",
       "      <td>Água e Esgoto</td>\n",
       "      <td>Empresa privada</td>\n",
       "      <td>6211223</td>\n",
       "      <td>683254</td>\n",
       "    </tr>\n",
       "  </tbody>\n",
       "</table>\n",
       "</div>"
      ]
     },
     "execution_count": 19,
     "metadata": {},
     "output_type": "execute_result"
    }
   ],
   "execution_count": 19
  },
  {
   "metadata": {
    "ExecuteTime": {
     "end_time": "2024-08-31T18:17:27.310798Z",
     "start_time": "2024-08-31T18:17:27.280232Z"
    }
   },
   "cell_type": "code",
   "source": "total.head()",
   "id": "79c2293bc7d71fa7",
   "outputs": [
    {
     "data": {
      "text/plain": [
       "   Código do Município      Município Estado        Região  Ano de Referência  \\\n",
       "0               530010       Brasília     DF  Centro-Oeste               2022   \n",
       "1               520010      Abadiânia     GO  Centro-Oeste               2022   \n",
       "2               520390  Buriti Alegre     GO  Centro-Oeste               2022   \n",
       "3               520450   Caldas Novas     GO  Centro-Oeste               2022   \n",
       "4               520510        Catalão     GO  Centro-Oeste               2022   \n",
       "\n",
       "   Código do Prestador                                          Prestador  \\\n",
       "0             53001000  Companhia de Saneamento Ambiental do Distrito ...   \n",
       "1             52001011                  Serviço Autônomo de Água e Esgoto   \n",
       "2             52039011                 BURITI ALEGRE AMBIENTAL S.P.E -S/A   \n",
       "3             52045011            Departamento Municipal de Água e Esgoto   \n",
       "4             52051011        Superintendência Municipal de Água e Esgoto   \n",
       "\n",
       "  Sigla do Prestador Abrangência Tipo de serviço  \\\n",
       "0              CAESB    Regional   Água e Esgoto   \n",
       "1               SAAE       Local   Água e Esgoto   \n",
       "2                BAA       Local   Água e Esgoto   \n",
       "3              DEMAE       Local   Água e Esgoto   \n",
       "4                SAE       Local   Água e Esgoto   \n",
       "\n",
       "                                   Natureza jurídica  \\\n",
       "0  Sociedade de economia mista com administração ...   \n",
       "1                                          Autarquia   \n",
       "2                                    Empresa privada   \n",
       "3                                          Autarquia   \n",
       "4                                          Autarquia   \n",
       "\n",
       "   População total do município do ano de referência:  \\\n",
       "0                                            2817381    \n",
       "1                                              17232    \n",
       "2                                              10495    \n",
       "3                                              98622    \n",
       "4                                             114427    \n",
       "\n",
       "   População total atendida com esgotamento sanitário  \n",
       "0                                            2600435   \n",
       "1                                              14115   \n",
       "2                                               1492   \n",
       "3                                              54168   \n",
       "4                                              72439   "
      ],
      "text/html": [
       "<div>\n",
       "<style scoped>\n",
       "    .dataframe tbody tr th:only-of-type {\n",
       "        vertical-align: middle;\n",
       "    }\n",
       "\n",
       "    .dataframe tbody tr th {\n",
       "        vertical-align: top;\n",
       "    }\n",
       "\n",
       "    .dataframe thead th {\n",
       "        text-align: right;\n",
       "    }\n",
       "</style>\n",
       "<table border=\"1\" class=\"dataframe\">\n",
       "  <thead>\n",
       "    <tr style=\"text-align: right;\">\n",
       "      <th></th>\n",
       "      <th>Código do Município</th>\n",
       "      <th>Município</th>\n",
       "      <th>Estado</th>\n",
       "      <th>Região</th>\n",
       "      <th>Ano de Referência</th>\n",
       "      <th>Código do Prestador</th>\n",
       "      <th>Prestador</th>\n",
       "      <th>Sigla do Prestador</th>\n",
       "      <th>Abrangência</th>\n",
       "      <th>Tipo de serviço</th>\n",
       "      <th>Natureza jurídica</th>\n",
       "      <th>População total do município do ano de referência:</th>\n",
       "      <th>População total atendida com esgotamento sanitário</th>\n",
       "    </tr>\n",
       "  </thead>\n",
       "  <tbody>\n",
       "    <tr>\n",
       "      <th>0</th>\n",
       "      <td>530010</td>\n",
       "      <td>Brasília</td>\n",
       "      <td>DF</td>\n",
       "      <td>Centro-Oeste</td>\n",
       "      <td>2022</td>\n",
       "      <td>53001000</td>\n",
       "      <td>Companhia de Saneamento Ambiental do Distrito ...</td>\n",
       "      <td>CAESB</td>\n",
       "      <td>Regional</td>\n",
       "      <td>Água e Esgoto</td>\n",
       "      <td>Sociedade de economia mista com administração ...</td>\n",
       "      <td>2817381</td>\n",
       "      <td>2600435</td>\n",
       "    </tr>\n",
       "    <tr>\n",
       "      <th>1</th>\n",
       "      <td>520010</td>\n",
       "      <td>Abadiânia</td>\n",
       "      <td>GO</td>\n",
       "      <td>Centro-Oeste</td>\n",
       "      <td>2022</td>\n",
       "      <td>52001011</td>\n",
       "      <td>Serviço Autônomo de Água e Esgoto</td>\n",
       "      <td>SAAE</td>\n",
       "      <td>Local</td>\n",
       "      <td>Água e Esgoto</td>\n",
       "      <td>Autarquia</td>\n",
       "      <td>17232</td>\n",
       "      <td>14115</td>\n",
       "    </tr>\n",
       "    <tr>\n",
       "      <th>2</th>\n",
       "      <td>520390</td>\n",
       "      <td>Buriti Alegre</td>\n",
       "      <td>GO</td>\n",
       "      <td>Centro-Oeste</td>\n",
       "      <td>2022</td>\n",
       "      <td>52039011</td>\n",
       "      <td>BURITI ALEGRE AMBIENTAL S.P.E -S/A</td>\n",
       "      <td>BAA</td>\n",
       "      <td>Local</td>\n",
       "      <td>Água e Esgoto</td>\n",
       "      <td>Empresa privada</td>\n",
       "      <td>10495</td>\n",
       "      <td>1492</td>\n",
       "    </tr>\n",
       "    <tr>\n",
       "      <th>3</th>\n",
       "      <td>520450</td>\n",
       "      <td>Caldas Novas</td>\n",
       "      <td>GO</td>\n",
       "      <td>Centro-Oeste</td>\n",
       "      <td>2022</td>\n",
       "      <td>52045011</td>\n",
       "      <td>Departamento Municipal de Água e Esgoto</td>\n",
       "      <td>DEMAE</td>\n",
       "      <td>Local</td>\n",
       "      <td>Água e Esgoto</td>\n",
       "      <td>Autarquia</td>\n",
       "      <td>98622</td>\n",
       "      <td>54168</td>\n",
       "    </tr>\n",
       "    <tr>\n",
       "      <th>4</th>\n",
       "      <td>520510</td>\n",
       "      <td>Catalão</td>\n",
       "      <td>GO</td>\n",
       "      <td>Centro-Oeste</td>\n",
       "      <td>2022</td>\n",
       "      <td>52051011</td>\n",
       "      <td>Superintendência Municipal de Água e Esgoto</td>\n",
       "      <td>SAE</td>\n",
       "      <td>Local</td>\n",
       "      <td>Água e Esgoto</td>\n",
       "      <td>Autarquia</td>\n",
       "      <td>114427</td>\n",
       "      <td>72439</td>\n",
       "    </tr>\n",
       "  </tbody>\n",
       "</table>\n",
       "</div>"
      ]
     },
     "execution_count": 20,
     "metadata": {},
     "output_type": "execute_result"
    }
   ],
   "execution_count": 20
  },
  {
   "metadata": {
    "ExecuteTime": {
     "end_time": "2024-08-31T18:17:30.572202Z",
     "start_time": "2024-08-31T18:17:30.524555Z"
    }
   },
   "cell_type": "code",
   "source": [
    "print(total['População total do município do ano de referência:'].isnull().sum())\n",
    "(total['População total do município do ano de referência:'] == '0,00').sum()"
   ],
   "id": "9c14e303d8e158e3",
   "outputs": [
    {
     "name": "stdout",
     "output_type": "stream",
     "text": [
      "0\n"
     ]
    },
    {
     "data": {
      "text/plain": [
       "0"
      ]
     },
     "execution_count": 21,
     "metadata": {},
     "output_type": "execute_result"
    }
   ],
   "execution_count": 21
  },
  {
   "metadata": {
    "ExecuteTime": {
     "end_time": "2024-08-31T18:17:37.758160Z",
     "start_time": "2024-08-31T18:17:33.220421Z"
    }
   },
   "cell_type": "code",
   "source": [
    "total['População total do município do ano de referência:'] = total['População total do município do ano de referência:'].str.replace(' ', '')\n",
    "total['População total do município do ano de referência:'] = total['População total do município do ano de referência:'].str.replace('.', '')\n",
    "total['População total do município do ano de referência:'] = total['População total do município do ano de referência:'].str.replace(',00', '')\n",
    "total['População total do município do ano de referência:'] =  total['População total do município do ano de referência:'].astype(int)"
   ],
   "id": "e4609a802df8a00c",
   "outputs": [
    {
     "ename": "AttributeError",
     "evalue": "Can only use .str accessor with string values!",
     "output_type": "error",
     "traceback": [
      "\u001B[1;31m---------------------------------------------------------------------------\u001B[0m",
      "\u001B[1;31mAttributeError\u001B[0m                            Traceback (most recent call last)",
      "Cell \u001B[1;32mIn[22], line 1\u001B[0m\n\u001B[1;32m----> 1\u001B[0m total[\u001B[38;5;124m'\u001B[39m\u001B[38;5;124mPopulação total do município do ano de referência:\u001B[39m\u001B[38;5;124m'\u001B[39m] \u001B[38;5;241m=\u001B[39m \u001B[43mtotal\u001B[49m\u001B[43m[\u001B[49m\u001B[38;5;124;43m'\u001B[39;49m\u001B[38;5;124;43mPopulação total do município do ano de referência:\u001B[39;49m\u001B[38;5;124;43m'\u001B[39;49m\u001B[43m]\u001B[49m\u001B[38;5;241;43m.\u001B[39;49m\u001B[43mstr\u001B[49m\u001B[38;5;241m.\u001B[39mreplace(\u001B[38;5;124m'\u001B[39m\u001B[38;5;124m \u001B[39m\u001B[38;5;124m'\u001B[39m, \u001B[38;5;124m'\u001B[39m\u001B[38;5;124m'\u001B[39m)\n\u001B[0;32m      2\u001B[0m total[\u001B[38;5;124m'\u001B[39m\u001B[38;5;124mPopulação total do município do ano de referência:\u001B[39m\u001B[38;5;124m'\u001B[39m] \u001B[38;5;241m=\u001B[39m total[\u001B[38;5;124m'\u001B[39m\u001B[38;5;124mPopulação total do município do ano de referência:\u001B[39m\u001B[38;5;124m'\u001B[39m]\u001B[38;5;241m.\u001B[39mstr\u001B[38;5;241m.\u001B[39mreplace(\u001B[38;5;124m'\u001B[39m\u001B[38;5;124m.\u001B[39m\u001B[38;5;124m'\u001B[39m, \u001B[38;5;124m'\u001B[39m\u001B[38;5;124m'\u001B[39m)\n\u001B[0;32m      3\u001B[0m total[\u001B[38;5;124m'\u001B[39m\u001B[38;5;124mPopulação total do município do ano de referência:\u001B[39m\u001B[38;5;124m'\u001B[39m] \u001B[38;5;241m=\u001B[39m total[\u001B[38;5;124m'\u001B[39m\u001B[38;5;124mPopulação total do município do ano de referência:\u001B[39m\u001B[38;5;124m'\u001B[39m]\u001B[38;5;241m.\u001B[39mstr\u001B[38;5;241m.\u001B[39mreplace(\u001B[38;5;124m'\u001B[39m\u001B[38;5;124m,00\u001B[39m\u001B[38;5;124m'\u001B[39m, \u001B[38;5;124m'\u001B[39m\u001B[38;5;124m'\u001B[39m)\n",
      "File \u001B[1;32m~\\AppData\\Local\\Programs\\Python\\icr-identify-age-related-conditions\\lib\\site-packages\\pandas\\core\\generic.py:6204\u001B[0m, in \u001B[0;36mNDFrame.__getattr__\u001B[1;34m(self, name)\u001B[0m\n\u001B[0;32m   6197\u001B[0m \u001B[38;5;28;01mif\u001B[39;00m (\n\u001B[0;32m   6198\u001B[0m     name \u001B[38;5;129;01mnot\u001B[39;00m \u001B[38;5;129;01min\u001B[39;00m \u001B[38;5;28mself\u001B[39m\u001B[38;5;241m.\u001B[39m_internal_names_set\n\u001B[0;32m   6199\u001B[0m     \u001B[38;5;129;01mand\u001B[39;00m name \u001B[38;5;129;01mnot\u001B[39;00m \u001B[38;5;129;01min\u001B[39;00m \u001B[38;5;28mself\u001B[39m\u001B[38;5;241m.\u001B[39m_metadata\n\u001B[0;32m   6200\u001B[0m     \u001B[38;5;129;01mand\u001B[39;00m name \u001B[38;5;129;01mnot\u001B[39;00m \u001B[38;5;129;01min\u001B[39;00m \u001B[38;5;28mself\u001B[39m\u001B[38;5;241m.\u001B[39m_accessors\n\u001B[0;32m   6201\u001B[0m     \u001B[38;5;129;01mand\u001B[39;00m \u001B[38;5;28mself\u001B[39m\u001B[38;5;241m.\u001B[39m_info_axis\u001B[38;5;241m.\u001B[39m_can_hold_identifiers_and_holds_name(name)\n\u001B[0;32m   6202\u001B[0m ):\n\u001B[0;32m   6203\u001B[0m     \u001B[38;5;28;01mreturn\u001B[39;00m \u001B[38;5;28mself\u001B[39m[name]\n\u001B[1;32m-> 6204\u001B[0m \u001B[38;5;28;01mreturn\u001B[39;00m \u001B[38;5;28;43mobject\u001B[39;49m\u001B[38;5;241;43m.\u001B[39;49m\u001B[38;5;21;43m__getattribute__\u001B[39;49m\u001B[43m(\u001B[49m\u001B[38;5;28;43mself\u001B[39;49m\u001B[43m,\u001B[49m\u001B[43m \u001B[49m\u001B[43mname\u001B[49m\u001B[43m)\u001B[49m\n",
      "File \u001B[1;32m~\\AppData\\Local\\Programs\\Python\\icr-identify-age-related-conditions\\lib\\site-packages\\pandas\\core\\accessor.py:224\u001B[0m, in \u001B[0;36mCachedAccessor.__get__\u001B[1;34m(self, obj, cls)\u001B[0m\n\u001B[0;32m    221\u001B[0m \u001B[38;5;28;01mif\u001B[39;00m obj \u001B[38;5;129;01mis\u001B[39;00m \u001B[38;5;28;01mNone\u001B[39;00m:\n\u001B[0;32m    222\u001B[0m     \u001B[38;5;66;03m# we're accessing the attribute of the class, i.e., Dataset.geo\u001B[39;00m\n\u001B[0;32m    223\u001B[0m     \u001B[38;5;28;01mreturn\u001B[39;00m \u001B[38;5;28mself\u001B[39m\u001B[38;5;241m.\u001B[39m_accessor\n\u001B[1;32m--> 224\u001B[0m accessor_obj \u001B[38;5;241m=\u001B[39m \u001B[38;5;28;43mself\u001B[39;49m\u001B[38;5;241;43m.\u001B[39;49m\u001B[43m_accessor\u001B[49m\u001B[43m(\u001B[49m\u001B[43mobj\u001B[49m\u001B[43m)\u001B[49m\n\u001B[0;32m    225\u001B[0m \u001B[38;5;66;03m# Replace the property with the accessor object. Inspired by:\u001B[39;00m\n\u001B[0;32m    226\u001B[0m \u001B[38;5;66;03m# https://www.pydanny.com/cached-property.html\u001B[39;00m\n\u001B[0;32m    227\u001B[0m \u001B[38;5;66;03m# We need to use object.__setattr__ because we overwrite __setattr__ on\u001B[39;00m\n\u001B[0;32m    228\u001B[0m \u001B[38;5;66;03m# NDFrame\u001B[39;00m\n\u001B[0;32m    229\u001B[0m \u001B[38;5;28mobject\u001B[39m\u001B[38;5;241m.\u001B[39m\u001B[38;5;21m__setattr__\u001B[39m(obj, \u001B[38;5;28mself\u001B[39m\u001B[38;5;241m.\u001B[39m_name, accessor_obj)\n",
      "File \u001B[1;32m~\\AppData\\Local\\Programs\\Python\\icr-identify-age-related-conditions\\lib\\site-packages\\pandas\\core\\strings\\accessor.py:190\u001B[0m, in \u001B[0;36mStringMethods.__init__\u001B[1;34m(self, data)\u001B[0m\n\u001B[0;32m    187\u001B[0m \u001B[38;5;28;01mdef\u001B[39;00m \u001B[38;5;21m__init__\u001B[39m(\u001B[38;5;28mself\u001B[39m, data) \u001B[38;5;241m-\u001B[39m\u001B[38;5;241m>\u001B[39m \u001B[38;5;28;01mNone\u001B[39;00m:\n\u001B[0;32m    188\u001B[0m     \u001B[38;5;28;01mfrom\u001B[39;00m \u001B[38;5;21;01mpandas\u001B[39;00m\u001B[38;5;21;01m.\u001B[39;00m\u001B[38;5;21;01mcore\u001B[39;00m\u001B[38;5;21;01m.\u001B[39;00m\u001B[38;5;21;01marrays\u001B[39;00m\u001B[38;5;21;01m.\u001B[39;00m\u001B[38;5;21;01mstring_\u001B[39;00m \u001B[38;5;28;01mimport\u001B[39;00m StringDtype\n\u001B[1;32m--> 190\u001B[0m     \u001B[38;5;28mself\u001B[39m\u001B[38;5;241m.\u001B[39m_inferred_dtype \u001B[38;5;241m=\u001B[39m \u001B[38;5;28;43mself\u001B[39;49m\u001B[38;5;241;43m.\u001B[39;49m\u001B[43m_validate\u001B[49m\u001B[43m(\u001B[49m\u001B[43mdata\u001B[49m\u001B[43m)\u001B[49m\n\u001B[0;32m    191\u001B[0m     \u001B[38;5;28mself\u001B[39m\u001B[38;5;241m.\u001B[39m_is_categorical \u001B[38;5;241m=\u001B[39m \u001B[38;5;28misinstance\u001B[39m(data\u001B[38;5;241m.\u001B[39mdtype, CategoricalDtype)\n\u001B[0;32m    192\u001B[0m     \u001B[38;5;28mself\u001B[39m\u001B[38;5;241m.\u001B[39m_is_string \u001B[38;5;241m=\u001B[39m \u001B[38;5;28misinstance\u001B[39m(data\u001B[38;5;241m.\u001B[39mdtype, StringDtype)\n",
      "File \u001B[1;32m~\\AppData\\Local\\Programs\\Python\\icr-identify-age-related-conditions\\lib\\site-packages\\pandas\\core\\strings\\accessor.py:244\u001B[0m, in \u001B[0;36mStringMethods._validate\u001B[1;34m(data)\u001B[0m\n\u001B[0;32m    241\u001B[0m inferred_dtype \u001B[38;5;241m=\u001B[39m lib\u001B[38;5;241m.\u001B[39minfer_dtype(values, skipna\u001B[38;5;241m=\u001B[39m\u001B[38;5;28;01mTrue\u001B[39;00m)\n\u001B[0;32m    243\u001B[0m \u001B[38;5;28;01mif\u001B[39;00m inferred_dtype \u001B[38;5;129;01mnot\u001B[39;00m \u001B[38;5;129;01min\u001B[39;00m allowed_types:\n\u001B[1;32m--> 244\u001B[0m     \u001B[38;5;28;01mraise\u001B[39;00m \u001B[38;5;167;01mAttributeError\u001B[39;00m(\u001B[38;5;124m\"\u001B[39m\u001B[38;5;124mCan only use .str accessor with string values!\u001B[39m\u001B[38;5;124m\"\u001B[39m)\n\u001B[0;32m    245\u001B[0m \u001B[38;5;28;01mreturn\u001B[39;00m inferred_dtype\n",
      "\u001B[1;31mAttributeError\u001B[0m: Can only use .str accessor with string values!"
     ]
    }
   ],
   "execution_count": 22
  },
  {
   "metadata": {},
   "cell_type": "code",
   "source": [
    "total['População total atendida com esgotamento sanitário'] = total['População total atendida com esgotamento sanitário'].str.replace(' ', '')\n",
    "total['População total atendida com esgotamento sanitário'] = total['População total atendida com esgotamento sanitário'].str.replace('.', '')\n",
    "total['População total atendida com esgotamento sanitário'] = total['População total atendida com esgotamento sanitário'].str.replace(',00', '')\n"
   ],
   "id": "b2a44911d3ce86e1",
   "outputs": [],
   "execution_count": null
  },
  {
   "metadata": {
    "ExecuteTime": {
     "end_time": "2024-08-31T18:17:39.827461Z",
     "start_time": "2024-08-31T18:17:39.808807Z"
    }
   },
   "cell_type": "code",
   "source": [
    "total['População total atendida com esgotamento sanitário'] = total['População total atendida com esgotamento sanitário'].fillna(0)\n",
    "total['População total atendida com esgotamento sanitário'] = total['População total atendida com esgotamento sanitário'].astype(int)"
   ],
   "id": "4c51c8b26bd97fe6",
   "outputs": [],
   "execution_count": 23
  },
  {
   "metadata": {
    "ExecuteTime": {
     "end_time": "2024-08-31T18:15:13.533825Z",
     "start_time": "2024-08-31T18:15:13.510755Z"
    }
   },
   "cell_type": "code",
   "source": "total.isnull().sum()",
   "id": "9608c81698955b",
   "outputs": [
    {
     "data": {
      "text/plain": [
       "Código do Município                                   0\n",
       "Município                                             0\n",
       "Estado                                                0\n",
       "Região                                                0\n",
       "Ano de Referência                                     0\n",
       "Código do Prestador                                   0\n",
       "Prestador                                             0\n",
       "Sigla do Prestador                                    0\n",
       "Abrangência                                           0\n",
       "Tipo de serviço                                       0\n",
       "Natureza jurídica                                     0\n",
       "População total do município do ano de referência:    0\n",
       "População total atendida com esgotamento sanitário    0\n",
       "dtype: int64"
      ]
     },
     "execution_count": 12,
     "metadata": {},
     "output_type": "execute_result"
    }
   ],
   "execution_count": 12
  },
  {
   "metadata": {
    "ExecuteTime": {
     "end_time": "2024-08-31T18:15:17.107194Z",
     "start_time": "2024-08-31T18:15:17.077119Z"
    }
   },
   "cell_type": "code",
   "source": "total.info()",
   "id": "f49daf3e90043ada",
   "outputs": [
    {
     "name": "stdout",
     "output_type": "stream",
     "text": [
      "<class 'pandas.core.frame.DataFrame'>\n",
      "RangeIndex: 2362 entries, 0 to 2361\n",
      "Data columns (total 13 columns):\n",
      " #   Column                                              Non-Null Count  Dtype \n",
      "---  ------                                              --------------  ----- \n",
      " 0   Código do Município                                 2362 non-null   int64 \n",
      " 1   Município                                           2362 non-null   object\n",
      " 2   Estado                                              2362 non-null   object\n",
      " 3   Região                                              2362 non-null   object\n",
      " 4   Ano de Referência                                   2362 non-null   int64 \n",
      " 5   Código do Prestador                                 2362 non-null   int64 \n",
      " 6   Prestador                                           2362 non-null   object\n",
      " 7   Sigla do Prestador                                  2362 non-null   object\n",
      " 8   Abrangência                                         2362 non-null   object\n",
      " 9   Tipo de serviço                                     2362 non-null   object\n",
      " 10  Natureza jurídica                                   2362 non-null   object\n",
      " 11  População total do município do ano de referência:  2362 non-null   int32 \n",
      " 12  População total atendida com esgotamento sanitário  2362 non-null   int32 \n",
      "dtypes: int32(2), int64(3), object(8)\n",
      "memory usage: 221.6+ KB\n"
     ]
    }
   ],
   "execution_count": 13
  },
  {
   "metadata": {},
   "cell_type": "markdown",
   "source": "# Dados de 2022 ",
   "id": "e9fbb5b4db9bd4b"
  },
  {
   "metadata": {
    "ExecuteTime": {
     "end_time": "2024-08-31T18:15:35.115832Z",
     "start_time": "2024-08-31T18:15:35.099243Z"
    }
   },
   "cell_type": "code",
   "source": "total_2022 = total[total['Ano de Referência'] == 2022]",
   "id": "f18f4d5edbd09be8",
   "outputs": [],
   "execution_count": 14
  },
  {
   "metadata": {
    "ExecuteTime": {
     "end_time": "2024-08-31T18:15:39.971852Z",
     "start_time": "2024-08-31T18:15:39.938860Z"
    }
   },
   "cell_type": "code",
   "source": "total_2022 = total_2022.drop(columns=['Ano de Referência'])",
   "id": "b10a96a37e305727",
   "outputs": [],
   "execution_count": 15
  },
  {
   "metadata": {
    "ExecuteTime": {
     "end_time": "2024-08-31T18:15:40.863416Z",
     "start_time": "2024-08-31T18:15:40.850998Z"
    }
   },
   "cell_type": "code",
   "source": "total_2022['Porcentagem Abastecida por prestador'] = total_2022['População total atendida com esgotamento sanitário']/ total_2022['População total do município do ano de referência:'] ",
   "id": "99cd757432846fb5",
   "outputs": [],
   "execution_count": 16
  },
  {
   "metadata": {
    "ExecuteTime": {
     "end_time": "2024-08-31T18:15:42.140863Z",
     "start_time": "2024-08-31T18:15:42.109523Z"
    }
   },
   "cell_type": "code",
   "source": "total_2022['Porcentagem Abastecida por prestador']",
   "id": "dceb4f65587bf13b",
   "outputs": [
    {
     "data": {
      "text/plain": [
       "0       0.922997\n",
       "1       0.819116\n",
       "2       0.142163\n",
       "3       0.549249\n",
       "4       0.633059\n",
       "          ...   \n",
       "2357    0.015902\n",
       "2358    0.431210\n",
       "2359    0.048210\n",
       "2360    0.154883\n",
       "2361    0.004219\n",
       "Name: Porcentagem Abastecida por prestador, Length: 2362, dtype: float64"
      ]
     },
     "execution_count": 17,
     "metadata": {},
     "output_type": "execute_result"
    }
   ],
   "execution_count": 17
  },
  {
   "metadata": {
    "ExecuteTime": {
     "end_time": "2024-08-31T18:16:13.263076Z",
     "start_time": "2024-08-31T18:16:13.219048Z"
    }
   },
   "cell_type": "code",
   "source": "total_2022",
   "id": "3a9a226a35a40d5f",
   "outputs": [
    {
     "data": {
      "text/plain": [
       "      Código do Município      Município Estado        Região  \\\n",
       "0                  530010       Brasília     DF  Centro-Oeste   \n",
       "1                  520010      Abadiânia     GO  Centro-Oeste   \n",
       "2                  520390  Buriti Alegre     GO  Centro-Oeste   \n",
       "3                  520450   Caldas Novas     GO  Centro-Oeste   \n",
       "4                  520510        Catalão     GO  Centro-Oeste   \n",
       "...                   ...            ...    ...           ...   \n",
       "2357               421830    Três Barras     SC           Sul   \n",
       "2358               421870        Tubarão     SC           Sul   \n",
       "2359               421875      Tunápolis     SC           Sul   \n",
       "2360               421900      Urussanga     SC           Sul   \n",
       "2361               421930        Videira     SC           Sul   \n",
       "\n",
       "      Código do Prestador                                          Prestador  \\\n",
       "0                53001000  Companhia de Saneamento Ambiental do Distrito ...   \n",
       "1                52001011                  Serviço Autônomo de Água e Esgoto   \n",
       "2                52039011                 BURITI ALEGRE AMBIENTAL S.P.E -S/A   \n",
       "3                52045011            Departamento Municipal de Água e Esgoto   \n",
       "4                52051011        Superintendência Municipal de Água e Esgoto   \n",
       "...                   ...                                                ...   \n",
       "2357             42183011  Serviço Autônomo Municipal de Água e Saneament...   \n",
       "2358             42187012                            Tubarão Saneamento S.A.   \n",
       "2359             42187511                  Prefeitura Municipal de Tunápolis   \n",
       "2360             42190011        Serviço Autônomo Municipal de Água e Esgoto   \n",
       "2361             42193012  SERVIÇO AUTÔNOMO DE ÁGUA E ESGOTO DO MUNICÍPIO...   \n",
       "\n",
       "     Sigla do Prestador Abrangência Tipo de serviço  \\\n",
       "0                 CAESB    Regional   Água e Esgoto   \n",
       "1                  SAAE       Local   Água e Esgoto   \n",
       "2                   BAA       Local   Água e Esgoto   \n",
       "3                 DEMAE       Local   Água e Esgoto   \n",
       "4                   SAE       Local   Água e Esgoto   \n",
       "...                 ...         ...             ...   \n",
       "2357             SAMASA       Local   Água e Esgoto   \n",
       "2358              TBSSA       Local   Água e Esgoto   \n",
       "2359                PMT       Local   Água e Esgoto   \n",
       "2360              SAMAE       Local   Água e Esgoto   \n",
       "2361              VISAN       Local   Água e Esgoto   \n",
       "\n",
       "                                      Natureza jurídica  \\\n",
       "0     Sociedade de economia mista com administração ...   \n",
       "1                                             Autarquia   \n",
       "2                                       Empresa privada   \n",
       "3                                             Autarquia   \n",
       "4                                             Autarquia   \n",
       "...                                                 ...   \n",
       "2357                                          Autarquia   \n",
       "2358                                    Empresa privada   \n",
       "2359                       Administração pública direta   \n",
       "2360                                          Autarquia   \n",
       "2361                                          Autarquia   \n",
       "\n",
       "      População total do município do ano de referência:  \\\n",
       "0                                               2817381    \n",
       "1                                                 17232    \n",
       "2                                                 10495    \n",
       "3                                                 98622    \n",
       "4                                                114427    \n",
       "...                                                 ...    \n",
       "2357                                              19746    \n",
       "2358                                             110088    \n",
       "2359                                               4916    \n",
       "2360                                              20919    \n",
       "2361                                              55466    \n",
       "\n",
       "      População total atendida com esgotamento sanitário  \\\n",
       "0                                               2600435    \n",
       "1                                                 14115    \n",
       "2                                                  1492    \n",
       "3                                                 54168    \n",
       "4                                                 72439    \n",
       "...                                                 ...    \n",
       "2357                                                314    \n",
       "2358                                              47471    \n",
       "2359                                                237    \n",
       "2360                                               3240    \n",
       "2361                                                234    \n",
       "\n",
       "      Porcentagem Abastecida por prestador  \n",
       "0                                 0.922997  \n",
       "1                                 0.819116  \n",
       "2                                 0.142163  \n",
       "3                                 0.549249  \n",
       "4                                 0.633059  \n",
       "...                                    ...  \n",
       "2357                              0.015902  \n",
       "2358                              0.431210  \n",
       "2359                              0.048210  \n",
       "2360                              0.154883  \n",
       "2361                              0.004219  \n",
       "\n",
       "[2362 rows x 13 columns]"
      ],
      "text/html": [
       "<div>\n",
       "<style scoped>\n",
       "    .dataframe tbody tr th:only-of-type {\n",
       "        vertical-align: middle;\n",
       "    }\n",
       "\n",
       "    .dataframe tbody tr th {\n",
       "        vertical-align: top;\n",
       "    }\n",
       "\n",
       "    .dataframe thead th {\n",
       "        text-align: right;\n",
       "    }\n",
       "</style>\n",
       "<table border=\"1\" class=\"dataframe\">\n",
       "  <thead>\n",
       "    <tr style=\"text-align: right;\">\n",
       "      <th></th>\n",
       "      <th>Código do Município</th>\n",
       "      <th>Município</th>\n",
       "      <th>Estado</th>\n",
       "      <th>Região</th>\n",
       "      <th>Código do Prestador</th>\n",
       "      <th>Prestador</th>\n",
       "      <th>Sigla do Prestador</th>\n",
       "      <th>Abrangência</th>\n",
       "      <th>Tipo de serviço</th>\n",
       "      <th>Natureza jurídica</th>\n",
       "      <th>População total do município do ano de referência:</th>\n",
       "      <th>População total atendida com esgotamento sanitário</th>\n",
       "      <th>Porcentagem Abastecida por prestador</th>\n",
       "    </tr>\n",
       "  </thead>\n",
       "  <tbody>\n",
       "    <tr>\n",
       "      <th>0</th>\n",
       "      <td>530010</td>\n",
       "      <td>Brasília</td>\n",
       "      <td>DF</td>\n",
       "      <td>Centro-Oeste</td>\n",
       "      <td>53001000</td>\n",
       "      <td>Companhia de Saneamento Ambiental do Distrito ...</td>\n",
       "      <td>CAESB</td>\n",
       "      <td>Regional</td>\n",
       "      <td>Água e Esgoto</td>\n",
       "      <td>Sociedade de economia mista com administração ...</td>\n",
       "      <td>2817381</td>\n",
       "      <td>2600435</td>\n",
       "      <td>0.922997</td>\n",
       "    </tr>\n",
       "    <tr>\n",
       "      <th>1</th>\n",
       "      <td>520010</td>\n",
       "      <td>Abadiânia</td>\n",
       "      <td>GO</td>\n",
       "      <td>Centro-Oeste</td>\n",
       "      <td>52001011</td>\n",
       "      <td>Serviço Autônomo de Água e Esgoto</td>\n",
       "      <td>SAAE</td>\n",
       "      <td>Local</td>\n",
       "      <td>Água e Esgoto</td>\n",
       "      <td>Autarquia</td>\n",
       "      <td>17232</td>\n",
       "      <td>14115</td>\n",
       "      <td>0.819116</td>\n",
       "    </tr>\n",
       "    <tr>\n",
       "      <th>2</th>\n",
       "      <td>520390</td>\n",
       "      <td>Buriti Alegre</td>\n",
       "      <td>GO</td>\n",
       "      <td>Centro-Oeste</td>\n",
       "      <td>52039011</td>\n",
       "      <td>BURITI ALEGRE AMBIENTAL S.P.E -S/A</td>\n",
       "      <td>BAA</td>\n",
       "      <td>Local</td>\n",
       "      <td>Água e Esgoto</td>\n",
       "      <td>Empresa privada</td>\n",
       "      <td>10495</td>\n",
       "      <td>1492</td>\n",
       "      <td>0.142163</td>\n",
       "    </tr>\n",
       "    <tr>\n",
       "      <th>3</th>\n",
       "      <td>520450</td>\n",
       "      <td>Caldas Novas</td>\n",
       "      <td>GO</td>\n",
       "      <td>Centro-Oeste</td>\n",
       "      <td>52045011</td>\n",
       "      <td>Departamento Municipal de Água e Esgoto</td>\n",
       "      <td>DEMAE</td>\n",
       "      <td>Local</td>\n",
       "      <td>Água e Esgoto</td>\n",
       "      <td>Autarquia</td>\n",
       "      <td>98622</td>\n",
       "      <td>54168</td>\n",
       "      <td>0.549249</td>\n",
       "    </tr>\n",
       "    <tr>\n",
       "      <th>4</th>\n",
       "      <td>520510</td>\n",
       "      <td>Catalão</td>\n",
       "      <td>GO</td>\n",
       "      <td>Centro-Oeste</td>\n",
       "      <td>52051011</td>\n",
       "      <td>Superintendência Municipal de Água e Esgoto</td>\n",
       "      <td>SAE</td>\n",
       "      <td>Local</td>\n",
       "      <td>Água e Esgoto</td>\n",
       "      <td>Autarquia</td>\n",
       "      <td>114427</td>\n",
       "      <td>72439</td>\n",
       "      <td>0.633059</td>\n",
       "    </tr>\n",
       "    <tr>\n",
       "      <th>...</th>\n",
       "      <td>...</td>\n",
       "      <td>...</td>\n",
       "      <td>...</td>\n",
       "      <td>...</td>\n",
       "      <td>...</td>\n",
       "      <td>...</td>\n",
       "      <td>...</td>\n",
       "      <td>...</td>\n",
       "      <td>...</td>\n",
       "      <td>...</td>\n",
       "      <td>...</td>\n",
       "      <td>...</td>\n",
       "      <td>...</td>\n",
       "    </tr>\n",
       "    <tr>\n",
       "      <th>2357</th>\n",
       "      <td>421830</td>\n",
       "      <td>Três Barras</td>\n",
       "      <td>SC</td>\n",
       "      <td>Sul</td>\n",
       "      <td>42183011</td>\n",
       "      <td>Serviço Autônomo Municipal de Água e Saneament...</td>\n",
       "      <td>SAMASA</td>\n",
       "      <td>Local</td>\n",
       "      <td>Água e Esgoto</td>\n",
       "      <td>Autarquia</td>\n",
       "      <td>19746</td>\n",
       "      <td>314</td>\n",
       "      <td>0.015902</td>\n",
       "    </tr>\n",
       "    <tr>\n",
       "      <th>2358</th>\n",
       "      <td>421870</td>\n",
       "      <td>Tubarão</td>\n",
       "      <td>SC</td>\n",
       "      <td>Sul</td>\n",
       "      <td>42187012</td>\n",
       "      <td>Tubarão Saneamento S.A.</td>\n",
       "      <td>TBSSA</td>\n",
       "      <td>Local</td>\n",
       "      <td>Água e Esgoto</td>\n",
       "      <td>Empresa privada</td>\n",
       "      <td>110088</td>\n",
       "      <td>47471</td>\n",
       "      <td>0.431210</td>\n",
       "    </tr>\n",
       "    <tr>\n",
       "      <th>2359</th>\n",
       "      <td>421875</td>\n",
       "      <td>Tunápolis</td>\n",
       "      <td>SC</td>\n",
       "      <td>Sul</td>\n",
       "      <td>42187511</td>\n",
       "      <td>Prefeitura Municipal de Tunápolis</td>\n",
       "      <td>PMT</td>\n",
       "      <td>Local</td>\n",
       "      <td>Água e Esgoto</td>\n",
       "      <td>Administração pública direta</td>\n",
       "      <td>4916</td>\n",
       "      <td>237</td>\n",
       "      <td>0.048210</td>\n",
       "    </tr>\n",
       "    <tr>\n",
       "      <th>2360</th>\n",
       "      <td>421900</td>\n",
       "      <td>Urussanga</td>\n",
       "      <td>SC</td>\n",
       "      <td>Sul</td>\n",
       "      <td>42190011</td>\n",
       "      <td>Serviço Autônomo Municipal de Água e Esgoto</td>\n",
       "      <td>SAMAE</td>\n",
       "      <td>Local</td>\n",
       "      <td>Água e Esgoto</td>\n",
       "      <td>Autarquia</td>\n",
       "      <td>20919</td>\n",
       "      <td>3240</td>\n",
       "      <td>0.154883</td>\n",
       "    </tr>\n",
       "    <tr>\n",
       "      <th>2361</th>\n",
       "      <td>421930</td>\n",
       "      <td>Videira</td>\n",
       "      <td>SC</td>\n",
       "      <td>Sul</td>\n",
       "      <td>42193012</td>\n",
       "      <td>SERVIÇO AUTÔNOMO DE ÁGUA E ESGOTO DO MUNICÍPIO...</td>\n",
       "      <td>VISAN</td>\n",
       "      <td>Local</td>\n",
       "      <td>Água e Esgoto</td>\n",
       "      <td>Autarquia</td>\n",
       "      <td>55466</td>\n",
       "      <td>234</td>\n",
       "      <td>0.004219</td>\n",
       "    </tr>\n",
       "  </tbody>\n",
       "</table>\n",
       "<p>2362 rows × 13 columns</p>\n",
       "</div>"
      ]
     },
     "execution_count": 18,
     "metadata": {},
     "output_type": "execute_result"
    }
   ],
   "execution_count": 18
  },
  {
   "metadata": {},
   "cell_type": "markdown",
   "source": "### Plotando os graficos no mapa do Brasil",
   "id": "64afbc5eba35d8d3"
  },
  {
   "metadata": {
    "ExecuteTime": {
     "end_time": "2024-08-31T18:17:57.578551Z",
     "start_time": "2024-08-31T18:17:57.057435Z"
    }
   },
   "cell_type": "code",
   "source": [
    "import geopandas as gpd\n",
    "from shapely.geometry import Point\n",
    "from geopy.geocoders import Nominatim\n",
    "geolocator = Nominatim(user_agent=\"geoapiExercises\")"
   ],
   "id": "46ae4bf5dbc960d7",
   "outputs": [],
   "execution_count": 24
  },
  {
   "metadata": {
    "ExecuteTime": {
     "end_time": "2024-08-31T18:17:57.675981Z",
     "start_time": "2024-08-31T18:17:57.656550Z"
    }
   },
   "cell_type": "code",
   "source": [
    "def geocode(city):\n",
    "    try:\n",
    "        location = geolocator.geocode(city+ ', Brazil')\n",
    "        return location.latitude, location.longitude\n",
    "    except:\n",
    "        return None,None"
   ],
   "id": "262cdb0fad9eaea8",
   "outputs": [],
   "execution_count": 25
  },
  {
   "metadata": {
    "ExecuteTime": {
     "end_time": "2024-08-31T18:46:47.254048Z",
     "start_time": "2024-08-31T18:17:58.539717Z"
    }
   },
   "cell_type": "code",
   "source": "total_2022['latitude'], total_2022['longitude'] = zip(*total_2022['Município'].apply(geocode))",
   "id": "7a88de8df3c80579",
   "outputs": [],
   "execution_count": 26
  },
  {
   "metadata": {
    "ExecuteTime": {
     "end_time": "2024-08-31T18:46:47.420079Z",
     "start_time": "2024-08-31T18:46:47.280252Z"
    }
   },
   "cell_type": "code",
   "source": "total_2022.dropna(subset=['latitude', 'longitude'], inplace=True)",
   "id": "ccd6691a089d89de",
   "outputs": [],
   "execution_count": 27
  },
  {
   "metadata": {
    "ExecuteTime": {
     "end_time": "2024-08-31T18:46:49.765462Z",
     "start_time": "2024-08-31T18:46:47.424772Z"
    }
   },
   "cell_type": "code",
   "source": [
    "municipalities = gpd.read_file('dados/BR_Municipios_2021.shp')\n",
    "#Padronizando os nomes.\n",
    "total_2022['Município'] = total_2022['Município'].str.upper()\n",
    "municipalities['NM_MUN'] = municipalities['NM_MUN'].str.upper()\n",
    "\n",
    "merged = municipalities.merge(total_2022, left_on='NM_MUN', right_on='Município', how='left')\n",
    "\n",
    "merged['Porcentagem Abastecida por prestador'] = merged['Porcentagem Abastecida por prestador'].fillna(-1)\n",
    "\n",
    "fig, ax = plt.subplots(figsize=(50, 50))\n",
    "merged.plot(ax=ax, column='Porcentagem Abastecida por prestador', cmap='coolwarm', legend=True, missing_kwds={'color': 'lightgrey'})\n",
    "    \n",
    "plt.title('Municipios por porcentagem de abastecimento de esgoto')\n",
    "plt.show()"
   ],
   "id": "32329daf9c216ff5",
   "outputs": [
    {
     "ename": "DataSourceError",
     "evalue": "dados/BR_Municipios_2021.shp: No such file or directory",
     "output_type": "error",
     "traceback": [
      "\u001B[1;31m---------------------------------------------------------------------------\u001B[0m",
      "\u001B[1;31mDataSourceError\u001B[0m                           Traceback (most recent call last)",
      "Cell \u001B[1;32mIn[28], line 1\u001B[0m\n\u001B[1;32m----> 1\u001B[0m municipalities \u001B[38;5;241m=\u001B[39m \u001B[43mgpd\u001B[49m\u001B[38;5;241;43m.\u001B[39;49m\u001B[43mread_file\u001B[49m\u001B[43m(\u001B[49m\u001B[38;5;124;43m'\u001B[39;49m\u001B[38;5;124;43mdados/BR_Municipios_2021.shp\u001B[39;49m\u001B[38;5;124;43m'\u001B[39;49m\u001B[43m)\u001B[49m\n\u001B[0;32m      2\u001B[0m \u001B[38;5;66;03m#Padronizando os nomes.\u001B[39;00m\n\u001B[0;32m      3\u001B[0m total_2022[\u001B[38;5;124m'\u001B[39m\u001B[38;5;124mMunicípio\u001B[39m\u001B[38;5;124m'\u001B[39m] \u001B[38;5;241m=\u001B[39m total_2022[\u001B[38;5;124m'\u001B[39m\u001B[38;5;124mMunicípio\u001B[39m\u001B[38;5;124m'\u001B[39m]\u001B[38;5;241m.\u001B[39mstr\u001B[38;5;241m.\u001B[39mupper()\n",
      "File \u001B[1;32m~\\AppData\\Local\\Programs\\Python\\icr-identify-age-related-conditions\\lib\\site-packages\\geopandas\\io\\file.py:294\u001B[0m, in \u001B[0;36m_read_file\u001B[1;34m(filename, bbox, mask, columns, rows, engine, **kwargs)\u001B[0m\n\u001B[0;32m    291\u001B[0m             from_bytes \u001B[38;5;241m=\u001B[39m \u001B[38;5;28;01mTrue\u001B[39;00m\n\u001B[0;32m    293\u001B[0m \u001B[38;5;28;01mif\u001B[39;00m engine \u001B[38;5;241m==\u001B[39m \u001B[38;5;124m\"\u001B[39m\u001B[38;5;124mpyogrio\u001B[39m\u001B[38;5;124m\"\u001B[39m:\n\u001B[1;32m--> 294\u001B[0m     \u001B[38;5;28;01mreturn\u001B[39;00m _read_file_pyogrio(\n\u001B[0;32m    295\u001B[0m         filename, bbox\u001B[38;5;241m=\u001B[39mbbox, mask\u001B[38;5;241m=\u001B[39mmask, columns\u001B[38;5;241m=\u001B[39mcolumns, rows\u001B[38;5;241m=\u001B[39mrows, \u001B[38;5;241m*\u001B[39m\u001B[38;5;241m*\u001B[39mkwargs\n\u001B[0;32m    296\u001B[0m     )\n\u001B[0;32m    298\u001B[0m \u001B[38;5;28;01melif\u001B[39;00m engine \u001B[38;5;241m==\u001B[39m \u001B[38;5;124m\"\u001B[39m\u001B[38;5;124mfiona\u001B[39m\u001B[38;5;124m\"\u001B[39m:\n\u001B[0;32m    299\u001B[0m     \u001B[38;5;28;01mif\u001B[39;00m pd\u001B[38;5;241m.\u001B[39mapi\u001B[38;5;241m.\u001B[39mtypes\u001B[38;5;241m.\u001B[39mis_file_like(filename):\n",
      "File \u001B[1;32m~\\AppData\\Local\\Programs\\Python\\icr-identify-age-related-conditions\\lib\\site-packages\\geopandas\\io\\file.py:547\u001B[0m, in \u001B[0;36m_read_file_pyogrio\u001B[1;34m(path_or_bytes, bbox, mask, rows, **kwargs)\u001B[0m\n\u001B[0;32m    538\u001B[0m     warnings\u001B[38;5;241m.\u001B[39mwarn(\n\u001B[0;32m    539\u001B[0m         \u001B[38;5;124m\"\u001B[39m\u001B[38;5;124mThe \u001B[39m\u001B[38;5;124m'\u001B[39m\u001B[38;5;124minclude_fields\u001B[39m\u001B[38;5;124m'\u001B[39m\u001B[38;5;124m and \u001B[39m\u001B[38;5;124m'\u001B[39m\u001B[38;5;124mignore_fields\u001B[39m\u001B[38;5;124m'\u001B[39m\u001B[38;5;124m keywords are deprecated, and \u001B[39m\u001B[38;5;124m\"\u001B[39m\n\u001B[0;32m    540\u001B[0m         \u001B[38;5;124m\"\u001B[39m\u001B[38;5;124mwill be removed in a future release. You can use the \u001B[39m\u001B[38;5;124m'\u001B[39m\u001B[38;5;124mcolumns\u001B[39m\u001B[38;5;124m'\u001B[39m\u001B[38;5;124m keyword \u001B[39m\u001B[38;5;124m\"\u001B[39m\n\u001B[1;32m   (...)\u001B[0m\n\u001B[0;32m    543\u001B[0m         stacklevel\u001B[38;5;241m=\u001B[39m\u001B[38;5;241m3\u001B[39m,\n\u001B[0;32m    544\u001B[0m     )\n\u001B[0;32m    545\u001B[0m     kwargs[\u001B[38;5;124m\"\u001B[39m\u001B[38;5;124mcolumns\u001B[39m\u001B[38;5;124m\"\u001B[39m] \u001B[38;5;241m=\u001B[39m kwargs\u001B[38;5;241m.\u001B[39mpop(\u001B[38;5;124m\"\u001B[39m\u001B[38;5;124minclude_fields\u001B[39m\u001B[38;5;124m\"\u001B[39m)\n\u001B[1;32m--> 547\u001B[0m \u001B[38;5;28;01mreturn\u001B[39;00m pyogrio\u001B[38;5;241m.\u001B[39mread_dataframe(path_or_bytes, bbox\u001B[38;5;241m=\u001B[39mbbox, \u001B[38;5;241m*\u001B[39m\u001B[38;5;241m*\u001B[39mkwargs)\n",
      "File \u001B[1;32m~\\AppData\\Local\\Programs\\Python\\icr-identify-age-related-conditions\\lib\\site-packages\\pyogrio\\geopandas.py:261\u001B[0m, in \u001B[0;36mread_dataframe\u001B[1;34m(path_or_buffer, layer, encoding, columns, read_geometry, force_2d, skip_features, max_features, where, bbox, mask, fids, sql, sql_dialect, fid_as_index, use_arrow, on_invalid, arrow_to_pandas_kwargs, **kwargs)\u001B[0m\n\u001B[0;32m    256\u001B[0m \u001B[38;5;28;01mif\u001B[39;00m \u001B[38;5;129;01mnot\u001B[39;00m use_arrow:\n\u001B[0;32m    257\u001B[0m     \u001B[38;5;66;03m# For arrow, datetimes are read as is.\u001B[39;00m\n\u001B[0;32m    258\u001B[0m     \u001B[38;5;66;03m# For numpy IO, datetimes are read as string values to preserve timezone info\u001B[39;00m\n\u001B[0;32m    259\u001B[0m     \u001B[38;5;66;03m# as numpy does not directly support timezones.\u001B[39;00m\n\u001B[0;32m    260\u001B[0m     kwargs[\u001B[38;5;124m\"\u001B[39m\u001B[38;5;124mdatetime_as_string\u001B[39m\u001B[38;5;124m\"\u001B[39m] \u001B[38;5;241m=\u001B[39m \u001B[38;5;28;01mTrue\u001B[39;00m\n\u001B[1;32m--> 261\u001B[0m result \u001B[38;5;241m=\u001B[39m read_func(\n\u001B[0;32m    262\u001B[0m     path_or_buffer,\n\u001B[0;32m    263\u001B[0m     layer\u001B[38;5;241m=\u001B[39mlayer,\n\u001B[0;32m    264\u001B[0m     encoding\u001B[38;5;241m=\u001B[39mencoding,\n\u001B[0;32m    265\u001B[0m     columns\u001B[38;5;241m=\u001B[39mcolumns,\n\u001B[0;32m    266\u001B[0m     read_geometry\u001B[38;5;241m=\u001B[39mread_geometry,\n\u001B[0;32m    267\u001B[0m     force_2d\u001B[38;5;241m=\u001B[39mgdal_force_2d,\n\u001B[0;32m    268\u001B[0m     skip_features\u001B[38;5;241m=\u001B[39mskip_features,\n\u001B[0;32m    269\u001B[0m     max_features\u001B[38;5;241m=\u001B[39mmax_features,\n\u001B[0;32m    270\u001B[0m     where\u001B[38;5;241m=\u001B[39mwhere,\n\u001B[0;32m    271\u001B[0m     bbox\u001B[38;5;241m=\u001B[39mbbox,\n\u001B[0;32m    272\u001B[0m     mask\u001B[38;5;241m=\u001B[39mmask,\n\u001B[0;32m    273\u001B[0m     fids\u001B[38;5;241m=\u001B[39mfids,\n\u001B[0;32m    274\u001B[0m     sql\u001B[38;5;241m=\u001B[39msql,\n\u001B[0;32m    275\u001B[0m     sql_dialect\u001B[38;5;241m=\u001B[39msql_dialect,\n\u001B[0;32m    276\u001B[0m     return_fids\u001B[38;5;241m=\u001B[39mfid_as_index,\n\u001B[0;32m    277\u001B[0m     \u001B[38;5;241m*\u001B[39m\u001B[38;5;241m*\u001B[39mkwargs,\n\u001B[0;32m    278\u001B[0m )\n\u001B[0;32m    280\u001B[0m \u001B[38;5;28;01mif\u001B[39;00m use_arrow:\n\u001B[0;32m    281\u001B[0m     meta, table \u001B[38;5;241m=\u001B[39m result\n",
      "File \u001B[1;32m~\\AppData\\Local\\Programs\\Python\\icr-identify-age-related-conditions\\lib\\site-packages\\pyogrio\\raw.py:196\u001B[0m, in \u001B[0;36mread\u001B[1;34m(path_or_buffer, layer, encoding, columns, read_geometry, force_2d, skip_features, max_features, where, bbox, mask, fids, sql, sql_dialect, return_fids, datetime_as_string, **kwargs)\u001B[0m\n\u001B[0;32m     56\u001B[0m \u001B[38;5;250m\u001B[39m\u001B[38;5;124;03m\"\"\"Read OGR data source into numpy arrays.\u001B[39;00m\n\u001B[0;32m     57\u001B[0m \n\u001B[0;32m     58\u001B[0m \u001B[38;5;124;03mIMPORTANT: non-linear geometry types (e.g., MultiSurface) are converted\u001B[39;00m\n\u001B[1;32m   (...)\u001B[0m\n\u001B[0;32m    191\u001B[0m \n\u001B[0;32m    192\u001B[0m \u001B[38;5;124;03m\"\"\"\u001B[39;00m\n\u001B[0;32m    194\u001B[0m dataset_kwargs \u001B[38;5;241m=\u001B[39m _preprocess_options_key_value(kwargs) \u001B[38;5;28;01mif\u001B[39;00m kwargs \u001B[38;5;28;01melse\u001B[39;00m {}\n\u001B[1;32m--> 196\u001B[0m \u001B[38;5;28;01mreturn\u001B[39;00m \u001B[43mogr_read\u001B[49m\u001B[43m(\u001B[49m\n\u001B[0;32m    197\u001B[0m \u001B[43m    \u001B[49m\u001B[43mget_vsi_path_or_buffer\u001B[49m\u001B[43m(\u001B[49m\u001B[43mpath_or_buffer\u001B[49m\u001B[43m)\u001B[49m\u001B[43m,\u001B[49m\n\u001B[0;32m    198\u001B[0m \u001B[43m    \u001B[49m\u001B[43mlayer\u001B[49m\u001B[38;5;241;43m=\u001B[39;49m\u001B[43mlayer\u001B[49m\u001B[43m,\u001B[49m\n\u001B[0;32m    199\u001B[0m \u001B[43m    \u001B[49m\u001B[43mencoding\u001B[49m\u001B[38;5;241;43m=\u001B[39;49m\u001B[43mencoding\u001B[49m\u001B[43m,\u001B[49m\n\u001B[0;32m    200\u001B[0m \u001B[43m    \u001B[49m\u001B[43mcolumns\u001B[49m\u001B[38;5;241;43m=\u001B[39;49m\u001B[43mcolumns\u001B[49m\u001B[43m,\u001B[49m\n\u001B[0;32m    201\u001B[0m \u001B[43m    \u001B[49m\u001B[43mread_geometry\u001B[49m\u001B[38;5;241;43m=\u001B[39;49m\u001B[43mread_geometry\u001B[49m\u001B[43m,\u001B[49m\n\u001B[0;32m    202\u001B[0m \u001B[43m    \u001B[49m\u001B[43mforce_2d\u001B[49m\u001B[38;5;241;43m=\u001B[39;49m\u001B[43mforce_2d\u001B[49m\u001B[43m,\u001B[49m\n\u001B[0;32m    203\u001B[0m \u001B[43m    \u001B[49m\u001B[43mskip_features\u001B[49m\u001B[38;5;241;43m=\u001B[39;49m\u001B[43mskip_features\u001B[49m\u001B[43m,\u001B[49m\n\u001B[0;32m    204\u001B[0m \u001B[43m    \u001B[49m\u001B[43mmax_features\u001B[49m\u001B[38;5;241;43m=\u001B[39;49m\u001B[43mmax_features\u001B[49m\u001B[43m \u001B[49m\u001B[38;5;129;43;01mor\u001B[39;49;00m\u001B[43m \u001B[49m\u001B[38;5;241;43m0\u001B[39;49m\u001B[43m,\u001B[49m\n\u001B[0;32m    205\u001B[0m \u001B[43m    \u001B[49m\u001B[43mwhere\u001B[49m\u001B[38;5;241;43m=\u001B[39;49m\u001B[43mwhere\u001B[49m\u001B[43m,\u001B[49m\n\u001B[0;32m    206\u001B[0m \u001B[43m    \u001B[49m\u001B[43mbbox\u001B[49m\u001B[38;5;241;43m=\u001B[39;49m\u001B[43mbbox\u001B[49m\u001B[43m,\u001B[49m\n\u001B[0;32m    207\u001B[0m \u001B[43m    \u001B[49m\u001B[43mmask\u001B[49m\u001B[38;5;241;43m=\u001B[39;49m\u001B[43m_mask_to_wkb\u001B[49m\u001B[43m(\u001B[49m\u001B[43mmask\u001B[49m\u001B[43m)\u001B[49m\u001B[43m,\u001B[49m\n\u001B[0;32m    208\u001B[0m \u001B[43m    \u001B[49m\u001B[43mfids\u001B[49m\u001B[38;5;241;43m=\u001B[39;49m\u001B[43mfids\u001B[49m\u001B[43m,\u001B[49m\n\u001B[0;32m    209\u001B[0m \u001B[43m    \u001B[49m\u001B[43msql\u001B[49m\u001B[38;5;241;43m=\u001B[39;49m\u001B[43msql\u001B[49m\u001B[43m,\u001B[49m\n\u001B[0;32m    210\u001B[0m \u001B[43m    \u001B[49m\u001B[43msql_dialect\u001B[49m\u001B[38;5;241;43m=\u001B[39;49m\u001B[43msql_dialect\u001B[49m\u001B[43m,\u001B[49m\n\u001B[0;32m    211\u001B[0m \u001B[43m    \u001B[49m\u001B[43mreturn_fids\u001B[49m\u001B[38;5;241;43m=\u001B[39;49m\u001B[43mreturn_fids\u001B[49m\u001B[43m,\u001B[49m\n\u001B[0;32m    212\u001B[0m \u001B[43m    \u001B[49m\u001B[43mdataset_kwargs\u001B[49m\u001B[38;5;241;43m=\u001B[39;49m\u001B[43mdataset_kwargs\u001B[49m\u001B[43m,\u001B[49m\n\u001B[0;32m    213\u001B[0m \u001B[43m    \u001B[49m\u001B[43mdatetime_as_string\u001B[49m\u001B[38;5;241;43m=\u001B[39;49m\u001B[43mdatetime_as_string\u001B[49m\u001B[43m,\u001B[49m\n\u001B[0;32m    214\u001B[0m \u001B[43m\u001B[49m\u001B[43m)\u001B[49m\n",
      "File \u001B[1;32m~\\AppData\\Local\\Programs\\Python\\icr-identify-age-related-conditions\\lib\\site-packages\\pyogrio\\_io.pyx:1239\u001B[0m, in \u001B[0;36mpyogrio._io.ogr_read\u001B[1;34m()\u001B[0m\n",
      "File \u001B[1;32m~\\AppData\\Local\\Programs\\Python\\icr-identify-age-related-conditions\\lib\\site-packages\\pyogrio\\_io.pyx:219\u001B[0m, in \u001B[0;36mpyogrio._io.ogr_open\u001B[1;34m()\u001B[0m\n",
      "\u001B[1;31mDataSourceError\u001B[0m: dados/BR_Municipios_2021.shp: No such file or directory"
     ]
    }
   ],
   "execution_count": 28
  },
  {
   "metadata": {},
   "cell_type": "markdown",
   "source": "## Dados da pobreza",
   "id": "1e285bb508b54168"
  },
  {
   "metadata": {
    "ExecuteTime": {
     "end_time": "2024-08-31T18:46:49.771040Z",
     "start_time": "2024-08-31T18:46:49.771040Z"
    }
   },
   "cell_type": "code",
   "source": "pobreza.head()",
   "id": "c7f88846875b9517",
   "outputs": [],
   "execution_count": null
  },
  {
   "metadata": {},
   "cell_type": "code",
   "source": "pobreza['referencia']= pd.to_datetime(pobreza['referencia'],format = '%m/%Y')",
   "id": "2c7237afb72fc69d",
   "outputs": [],
   "execution_count": null
  },
  {
   "metadata": {},
   "cell_type": "code",
   "source": "pobreza['referencia']",
   "id": "5c58621874b5b57b",
   "outputs": [],
   "execution_count": null
  },
  {
   "metadata": {},
   "cell_type": "code",
   "source": "",
   "id": "f3f6ef62defcdb2a",
   "outputs": [],
   "execution_count": null
  }
 ],
 "metadata": {
  "kernelspec": {
   "display_name": "Python 3",
   "language": "python",
   "name": "python3"
  },
  "language_info": {
   "codemirror_mode": {
    "name": "ipython",
    "version": 2
   },
   "file_extension": ".py",
   "mimetype": "text/x-python",
   "name": "python",
   "nbconvert_exporter": "python",
   "pygments_lexer": "ipython2",
   "version": "2.7.6"
  }
 },
 "nbformat": 4,
 "nbformat_minor": 5
}
