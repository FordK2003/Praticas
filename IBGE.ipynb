{
 "nbformat": 4,
 "nbformat_minor": 0,
 "metadata": {
  "colab": {
   "provenance": []
  },
  "kernelspec": {
   "name": "python3",
   "display_name": "Python 3 (ipykernel)",
   "language": "python"
  },
  "language_info": {
   "name": "python"
  }
 },
 "cells": [
  {
   "cell_type": "markdown",
   "metadata": {
    "id": "CKYKT4f-5-OX"
   },
   "source": "# Exemplo de Consulta a API do IBGE"
  },
  {
   "cell_type": "code",
   "metadata": {
    "colab": {
     "base_uri": "https://localhost:8080/"
    },
    "id": "HkcO25_G459Z",
    "outputId": "0b77891e-1ea8-429d-a70d-44c4603379f3",
    "ExecuteTime": {
     "end_time": "2024-09-01T16:55:09.275447Z",
     "start_time": "2024-09-01T16:55:04.396848Z"
    }
   },
   "source": [
    "!pip install requests\n",
    "import pandas as pd\n",
    "import requests\n",
    "import pprint as pp"
   ],
   "outputs": [
    {
     "name": "stdout",
     "output_type": "stream",
     "text": [
      "Requirement already satisfied: requests in c:\\users\\romul\\appdata\\local\\programs\\python\\icr-identify-age-related-conditions\\lib\\site-packages (2.31.0)\n",
      "Requirement already satisfied: charset-normalizer<4,>=2 in c:\\users\\romul\\appdata\\local\\programs\\python\\icr-identify-age-related-conditions\\lib\\site-packages (from requests) (3.3.2)\n",
      "Requirement already satisfied: idna<4,>=2.5 in c:\\users\\romul\\appdata\\local\\programs\\python\\icr-identify-age-related-conditions\\lib\\site-packages (from requests) (3.6)\n",
      "Requirement already satisfied: urllib3<3,>=1.21.1 in c:\\users\\romul\\appdata\\local\\programs\\python\\icr-identify-age-related-conditions\\lib\\site-packages (from requests) (2.1.0)\n",
      "Requirement already satisfied: certifi>=2017.4.17 in c:\\users\\romul\\appdata\\local\\programs\\python\\icr-identify-age-related-conditions\\lib\\site-packages (from requests) (2023.11.17)\n"
     ]
    }
   ],
   "execution_count": 78
  },
  {
   "metadata": {
    "ExecuteTime": {
     "end_time": "2024-09-01T16:55:09.833546Z",
     "start_time": "2024-09-01T16:55:09.275447Z"
    }
   },
   "cell_type": "code",
   "source": [
    "nome_consulta = 'PNAD_5932'\n",
    "# Link obtido atravez do https://servicodados.ibge.gov.br/api/docs/agregados?versao=3#api-bq query builder\n",
    "pnad_url = \"https://servicodados.ibge.gov.br/api/v3/agregados/4662/periodos/2012|2013|2014|2015|2016|2017|2018|2019|2020|2021|2022|2023/variaveis/5932?localidades=N3[all]&classificacao=888[47946]\"\n",
    "\n",
    "response = requests.get(pnad_url)\n",
    "\n",
    "# Verificando erro na requisição\n",
    "if response.status_code == 200:\n",
    "    pnad_data = response.json()\n",
    "\n",
    "    # Extract the relevant parts of the JSON structure\n",
    "    results = pnad_data[0]['resultados']\n",
    "    extracted_data = []\n",
    "    for result in results:\n",
    "        for serie in result['series']:\n",
    "            row = {\n",
    "                'Categoria': result['classificacoes'][0]['categoria']['47946'],#Codigo da categoria\n",
    "                'Localidade': serie['localidade']['nome'],\n",
    "                'Nivel': serie['localidade']['nivel']['nome'],\n",
    "                'Valor': serie['serie']['2022'],\n",
    "                'Unidade': pnad_data[0]['unidade'],\n",
    "                'Variavel': pnad_data[0]['variavel']\n",
    "            }\n",
    "            extracted_data.append(row)\n",
    "\n",
    "    # Convert the extracted data into a DataFrame\n",
    "    df = pd.DataFrame(extracted_data)\n",
    "    print(df)\n",
    "\n",
    "else:\n",
    "    print(f\"Failed to fetch data. Status code: {response.status_code}\")\n"
   ],
   "outputs": [
    {
     "name": "stdout",
     "output_type": "stream",
     "text": [
      "   Categoria           Localidade                 Nivel Valor Unidade  \\\n",
      "0      Total             Rondônia  Unidade da Federação  2400   Reais   \n",
      "1      Total                 Acre  Unidade da Federação  2294   Reais   \n",
      "2      Total             Amazonas  Unidade da Federação  2035   Reais   \n",
      "3      Total              Roraima  Unidade da Federação  2606   Reais   \n",
      "4      Total                 Pará  Unidade da Federação  1917   Reais   \n",
      "5      Total                Amapá  Unidade da Federação  2387   Reais   \n",
      "6      Total            Tocantins  Unidade da Federação  2475   Reais   \n",
      "7      Total             Maranhão  Unidade da Federação  1671   Reais   \n",
      "8      Total                Piauí  Unidade da Federação  1886   Reais   \n",
      "9      Total                Ceará  Unidade da Federação  1814   Reais   \n",
      "10     Total  Rio Grande do Norte  Unidade da Federação  2213   Reais   \n",
      "11     Total              Paraíba  Unidade da Federação  1923   Reais   \n",
      "12     Total           Pernambuco  Unidade da Federação  1837   Reais   \n",
      "13     Total              Alagoas  Unidade da Federação  1796   Reais   \n",
      "14     Total              Sergipe  Unidade da Federação  1977   Reais   \n",
      "15     Total                Bahia  Unidade da Federação  1689   Reais   \n",
      "16     Total         Minas Gerais  Unidade da Federação  2355   Reais   \n",
      "17     Total       Espírito Santo  Unidade da Federação  2675   Reais   \n",
      "18     Total       Rio de Janeiro  Unidade da Federação  3258   Reais   \n",
      "19     Total            São Paulo  Unidade da Federação  3329   Reais   \n",
      "20     Total               Paraná  Unidade da Federação  2957   Reais   \n",
      "21     Total       Santa Catarina  Unidade da Federação  3108   Reais   \n",
      "22     Total    Rio Grande do Sul  Unidade da Federação  3004   Reais   \n",
      "23     Total   Mato Grosso do Sul  Unidade da Federação  3051   Reais   \n",
      "24     Total          Mato Grosso  Unidade da Federação  2932   Reais   \n",
      "25     Total                Goiás  Unidade da Federação  2588   Reais   \n",
      "26     Total     Distrito Federal  Unidade da Federação  4487   Reais   \n",
      "\n",
      "                                             Variavel  \n",
      "0   Rendimento médio mensal real das pessoas de 14...  \n",
      "1   Rendimento médio mensal real das pessoas de 14...  \n",
      "2   Rendimento médio mensal real das pessoas de 14...  \n",
      "3   Rendimento médio mensal real das pessoas de 14...  \n",
      "4   Rendimento médio mensal real das pessoas de 14...  \n",
      "5   Rendimento médio mensal real das pessoas de 14...  \n",
      "6   Rendimento médio mensal real das pessoas de 14...  \n",
      "7   Rendimento médio mensal real das pessoas de 14...  \n",
      "8   Rendimento médio mensal real das pessoas de 14...  \n",
      "9   Rendimento médio mensal real das pessoas de 14...  \n",
      "10  Rendimento médio mensal real das pessoas de 14...  \n",
      "11  Rendimento médio mensal real das pessoas de 14...  \n",
      "12  Rendimento médio mensal real das pessoas de 14...  \n",
      "13  Rendimento médio mensal real das pessoas de 14...  \n",
      "14  Rendimento médio mensal real das pessoas de 14...  \n",
      "15  Rendimento médio mensal real das pessoas de 14...  \n",
      "16  Rendimento médio mensal real das pessoas de 14...  \n",
      "17  Rendimento médio mensal real das pessoas de 14...  \n",
      "18  Rendimento médio mensal real das pessoas de 14...  \n",
      "19  Rendimento médio mensal real das pessoas de 14...  \n",
      "20  Rendimento médio mensal real das pessoas de 14...  \n",
      "21  Rendimento médio mensal real das pessoas de 14...  \n",
      "22  Rendimento médio mensal real das pessoas de 14...  \n",
      "23  Rendimento médio mensal real das pessoas de 14...  \n",
      "24  Rendimento médio mensal real das pessoas de 14...  \n",
      "25  Rendimento médio mensal real das pessoas de 14...  \n",
      "26  Rendimento médio mensal real das pessoas de 14...  \n"
     ]
    }
   ],
   "execution_count": 79
  },
  {
   "metadata": {
    "ExecuteTime": {
     "end_time": "2024-09-01T16:55:09.868884Z",
     "start_time": "2024-09-01T16:55:09.836650Z"
    }
   },
   "cell_type": "code",
   "source": "df.to_csv(f'consulta_{nome_consulta}.csv', index=False)",
   "outputs": [],
   "execution_count": 80
  },
  {
   "metadata": {
    "ExecuteTime": {
     "end_time": "2024-09-01T16:55:09.896850Z",
     "start_time": "2024-09-01T16:55:09.881129Z"
    }
   },
   "cell_type": "code",
   "source": "nome_consulta_b = 'PNAD_8513'",
   "outputs": [],
   "execution_count": 81
  },
  {
   "metadata": {
    "ExecuteTime": {
     "end_time": "2024-09-01T16:55:10.315112Z",
     "start_time": "2024-09-01T16:55:09.900968Z"
    }
   },
   "cell_type": "code",
   "source": [
    "\n",
    "# Link obtido atravez do https://servicodados.ibge.gov.br/api/docs/agregados?versao=3#api-bq query builder\n",
    "##pnad_url = \"https://servicodados.ibge.gov.br/api/v3/agregados/4662/periodos/2012|2013|2014|2015|2016|2017|2018|2019|2020|2021|2022|2023/variaveis/5932?localidades=N3[all]&classificacao=888[47946]\"\n",
    "pnad_url = \"https://servicodados.ibge.gov.br/api/v3/agregados/8513/periodos/201512|201601|201602|201603|201604|201605|201606|201607|201608|201609|201610|201611|201612|201701|201702|201703|201704|201705|201706|201707|201708|201709|201710|201711|201712|201801|201802|201803|201804|201805|201806|201807|201808|201809|201810|201811|201812|201901|201902|201903|201904|201905|201906|201907|201908|201909|201910|201911|201912|202001|202002|202003|202004|202005|202006|202007|202008|202009|202010|202011|202012|202101|202102|202103|202104|202105|202106|202107|202108|202109|202110|202111|202112|202201|202202|202203|202204|202205|202206|202207|202208|202209|202210|202211|202212|202301|202302|202303|202304|202305|202306|202307|202308|202309|202310|202311|202312|202401|202402|202403|202404|202405|202406|202407/variaveis/12466?localidades=N1[all]\"\n",
    "response = requests.get(pnad_url)\n",
    "\n"
   ],
   "outputs": [],
   "execution_count": 82
  },
  {
   "metadata": {
    "ExecuteTime": {
     "end_time": "2024-09-01T16:55:10.737924Z",
     "start_time": "2024-09-01T16:55:10.316759Z"
    }
   },
   "cell_type": "code",
   "source": [
    "\n",
    "\n",
    "# Make a request to the PNAD endpoint\n",
    "response = requests.get(pnad_url)\n",
    "\n",
    "# Check if the request was successful\n",
    "if response.status_code == 200:\n",
    "    # Convert the response to a DataFrame\n",
    "    pnad_data = response.json()\n",
    "    pp.pprint(pnad_data)\n",
    "\n",
    "    # Extract the 'resultados' key from the first element of pnad_data\n",
    "    resultados_data = pnad_data[0]['resultados']\n",
    "\n",
    "    # Initialize a list to store the extracted data\n",
    "    extracted_data = []\n",
    "\n",
    "    # Iterate through each result\n",
    "    for result in resultados_data:\n",
    "        # Iterate through each serie in the result\n",
    "        for serie in result['series']:\n",
    "            # Iterate through each key-value pair in the serie\n",
    "            for data, valor in serie['serie'].items():\n",
    "                row = {\n",
    "                    'Data': data,\n",
    "                    'Valor': valor\n",
    "                }\n",
    "                extracted_data.append(row)\n",
    "\n",
    "    # Convert the extracted data into a DataFrame\n",
    "    df = pd.DataFrame(extracted_data)\n",
    "    print(df)\n",
    "\n",
    "else:\n",
    "    print(f\"Failed to retrieve data: {response.status_code}\")"
   ],
   "outputs": [
    {
     "name": "stdout",
     "output_type": "stream",
     "text": [
      "[{'id': '12466',\n",
      "  'resultados': [{'classificacoes': [],\n",
      "                  'series': [{'localidade': {'id': '1',\n",
      "                                             'nivel': {'id': 'N1',\n",
      "                                                       'nome': 'Brasil'},\n",
      "                                             'nome': 'Brasil'},\n",
      "                              'serie': {'201512': '38.3',\n",
      "                                        '201601': '38.1',\n",
      "                                        '201602': '38.2',\n",
      "                                        '201603': '38.3',\n",
      "                                        '201604': '38.5',\n",
      "                                        '201605': '38.7',\n",
      "                                        '201606': '38.6',\n",
      "                                        '201607': '38.7',\n",
      "                                        '201608': '38.4',\n",
      "                                        '201609': '38.4',\n",
      "                                        '201610': '38.5',\n",
      "                                        '201611': '38.7',\n",
      "                                        '201612': '39.0',\n",
      "                                        '201701': '39.2',\n",
      "                                        '201702': '39.2',\n",
      "                                        '201703': '39.2',\n",
      "                                        '201704': '39.5',\n",
      "                                        '201705': '39.7',\n",
      "                                        '201706': '39.7',\n",
      "                                        '201707': '39.8',\n",
      "                                        '201708': '40.0',\n",
      "                                        '201709': '40.2',\n",
      "                                        '201710': '40.1',\n",
      "                                        '201711': '40.3',\n",
      "                                        '201712': '40.2',\n",
      "                                        '201801': '40.2',\n",
      "                                        '201802': '40.2',\n",
      "                                        '201803': '40.2',\n",
      "                                        '201804': '40.4',\n",
      "                                        '201805': '40.3',\n",
      "                                        '201806': '40.2',\n",
      "                                        '201807': '40.1',\n",
      "                                        '201808': '40.3',\n",
      "                                        '201809': '40.6',\n",
      "                                        '201810': '40.7',\n",
      "                                        '201811': '40.8',\n",
      "                                        '201812': '40.7',\n",
      "                                        '201901': '40.5',\n",
      "                                        '201902': '40.3',\n",
      "                                        '201903': '40.4',\n",
      "                                        '201904': '40.5',\n",
      "                                        '201905': '40.6',\n",
      "                                        '201906': '40.8',\n",
      "                                        '201907': '40.9',\n",
      "                                        '201908': '41.0',\n",
      "                                        '201909': '40.9',\n",
      "                                        '201910': '40.8',\n",
      "                                        '201911': '40.7',\n",
      "                                        '201912': '40.6',\n",
      "                                        '202001': '40.3',\n",
      "                                        '202002': '40.2',\n",
      "                                        '202003': '39.5',\n",
      "                                        '202004': '38.3',\n",
      "                                        '202005': '37.2',\n",
      "                                        '202006': '36.5',\n",
      "                                        '202007': '37.1',\n",
      "                                        '202008': '37.6',\n",
      "                                        '202009': '38.0',\n",
      "                                        '202010': '38.4',\n",
      "                                        '202011': '38.7',\n",
      "                                        '202012': '39.0',\n",
      "                                        '202101': '39.2',\n",
      "                                        '202102': '39.1',\n",
      "                                        '202103': '39.1',\n",
      "                                        '202104': '39.3',\n",
      "                                        '202105': '39.5',\n",
      "                                        '202106': '40.0',\n",
      "                                        '202107': '40.2',\n",
      "                                        '202108': '40.6',\n",
      "                                        '202109': '40.6',\n",
      "                                        '202110': '40.7',\n",
      "                                        '202111': '40.6',\n",
      "                                        '202112': '40.7',\n",
      "                                        '202201': '40.4',\n",
      "                                        '202202': '40.2',\n",
      "                                        '202203': '40.1',\n",
      "                                        '202204': '40.1',\n",
      "                                        '202205': '40.1',\n",
      "                                        '202206': '40.0',\n",
      "                                        '202207': '39.8',\n",
      "                                        '202208': '39.7',\n",
      "                                        '202209': '39.4',\n",
      "                                        '202210': '39.1',\n",
      "                                        '202211': '38.9',\n",
      "                                        '202212': '38.8',\n",
      "                                        '202301': '39.0',\n",
      "                                        '202302': '38.9',\n",
      "                                        '202303': '39.0',\n",
      "                                        '202304': '38.9',\n",
      "                                        '202305': '38.9',\n",
      "                                        '202306': '39.2',\n",
      "                                        '202307': '39.2',\n",
      "                                        '202308': '39.1',\n",
      "                                        '202309': '39.1',\n",
      "                                        '202310': '39.1',\n",
      "                                        '202311': '39.2',\n",
      "                                        '202312': '39.1',\n",
      "                                        '202401': '39.0',\n",
      "                                        '202402': '38.7',\n",
      "                                        '202403': '38.9',\n",
      "                                        '202404': '38.7',\n",
      "                                        '202405': '38.6',\n",
      "                                        '202406': '38.6',\n",
      "                                        '202407': '38.7'}}]}],\n",
      "  'unidade': '%',\n",
      "  'variavel': 'Taxa de informalidade das pessoas de 14 anos ou mais de idade '\n",
      "              'ocupadas na semana de referência'}]\n",
      "       Data Valor\n",
      "0    201512  38.3\n",
      "1    201601  38.1\n",
      "2    201602  38.2\n",
      "3    201603  38.3\n",
      "4    201604  38.5\n",
      "..      ...   ...\n",
      "99   202403  38.9\n",
      "100  202404  38.7\n",
      "101  202405  38.6\n",
      "102  202406  38.6\n",
      "103  202407  38.7\n",
      "\n",
      "[104 rows x 2 columns]\n"
     ]
    }
   ],
   "execution_count": 83
  },
  {
   "metadata": {
    "ExecuteTime": {
     "end_time": "2024-09-01T16:55:10.770024Z",
     "start_time": "2024-09-01T16:55:10.740975Z"
    }
   },
   "cell_type": "code",
   "source": [
    "df['Data']= pd.to_datetime(df['Data'],format = '%Y%m')\n",
    "df['Valor']= pd.to_numeric(df['Valor'])"
   ],
   "outputs": [],
   "execution_count": 84
  },
  {
   "metadata": {
    "ExecuteTime": {
     "end_time": "2024-09-01T16:55:10.802157Z",
     "start_time": "2024-09-01T16:55:10.770024Z"
    }
   },
   "cell_type": "code",
   "source": "df.head()",
   "outputs": [
    {
     "data": {
      "text/plain": [
       "        Data  Valor\n",
       "0 2015-12-01   38.3\n",
       "1 2016-01-01   38.1\n",
       "2 2016-02-01   38.2\n",
       "3 2016-03-01   38.3\n",
       "4 2016-04-01   38.5"
      ],
      "text/html": [
       "<div>\n",
       "<style scoped>\n",
       "    .dataframe tbody tr th:only-of-type {\n",
       "        vertical-align: middle;\n",
       "    }\n",
       "\n",
       "    .dataframe tbody tr th {\n",
       "        vertical-align: top;\n",
       "    }\n",
       "\n",
       "    .dataframe thead th {\n",
       "        text-align: right;\n",
       "    }\n",
       "</style>\n",
       "<table border=\"1\" class=\"dataframe\">\n",
       "  <thead>\n",
       "    <tr style=\"text-align: right;\">\n",
       "      <th></th>\n",
       "      <th>Data</th>\n",
       "      <th>Valor</th>\n",
       "    </tr>\n",
       "  </thead>\n",
       "  <tbody>\n",
       "    <tr>\n",
       "      <th>0</th>\n",
       "      <td>2015-12-01</td>\n",
       "      <td>38.3</td>\n",
       "    </tr>\n",
       "    <tr>\n",
       "      <th>1</th>\n",
       "      <td>2016-01-01</td>\n",
       "      <td>38.1</td>\n",
       "    </tr>\n",
       "    <tr>\n",
       "      <th>2</th>\n",
       "      <td>2016-02-01</td>\n",
       "      <td>38.2</td>\n",
       "    </tr>\n",
       "    <tr>\n",
       "      <th>3</th>\n",
       "      <td>2016-03-01</td>\n",
       "      <td>38.3</td>\n",
       "    </tr>\n",
       "    <tr>\n",
       "      <th>4</th>\n",
       "      <td>2016-04-01</td>\n",
       "      <td>38.5</td>\n",
       "    </tr>\n",
       "  </tbody>\n",
       "</table>\n",
       "</div>"
      ]
     },
     "execution_count": 85,
     "metadata": {},
     "output_type": "execute_result"
    }
   ],
   "execution_count": 85
  },
  {
   "metadata": {
    "ExecuteTime": {
     "end_time": "2024-09-01T16:55:10.818518Z",
     "start_time": "2024-09-01T16:55:10.802157Z"
    }
   },
   "cell_type": "code",
   "source": "df.to_csv(f'consulta_{nome_consulta_b}.csv', index=False)",
   "outputs": [],
   "execution_count": 86
  },
  {
   "metadata": {
    "ExecuteTime": {
     "end_time": "2024-09-01T16:55:11.789119Z",
     "start_time": "2024-09-01T16:55:10.823077Z"
    }
   },
   "cell_type": "code",
   "source": "df.plot(x='Data', y='Valor', kind='line', title='Taxa de informalidade das pessoas de 14 anos ou mais de idade - Brasil')",
   "outputs": [
    {
     "data": {
      "text/plain": [
       "<Axes: title={'center': 'Taxa de informalidade das pessoas de 14 anos ou mais de idade - Brasil'}, xlabel='Data'>"
      ]
     },
     "execution_count": 87,
     "metadata": {},
     "output_type": "execute_result"
    },
    {
     "data": {
      "text/plain": [
       "<Figure size 640x480 with 1 Axes>"
      ],
      "image/png": "[encoded data removed]"
     },
     "metadata": {},
     "output_type": "display_data"
    }
   ],
   "execution_count": 87
  },
  {
   "metadata": {
    "ExecuteTime": {
     "end_time": "2024-09-01T16:55:11.804863Z",
     "start_time": "2024-09-01T16:55:11.789119Z"
    }
   },
   "cell_type": "code",
   "source": "",
   "outputs": [],
   "execution_count": 87
  }
 ]
}
